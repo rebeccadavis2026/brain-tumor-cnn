{
  "cells": [
    {
      "cell_type": "code",
      "execution_count": null,
      "metadata": {
        "id": "0U9br7jiGqAW"
      },
      "outputs": [],
      "source": [
        "import os\n",
        "import torch\n",
        "import torch.nn as nn\n",
        "import torch.optim as optim\n",
        "from torchvision import datasets, transforms, models\n",
        "from torch.utils.data import DataLoader\n",
        "from tqdm import tqdm\n",
        "from collections import Counter\n",
        "from torch.utils.data import random_split, Subset\n",
        "from sklearn.model_selection import StratifiedShuffleSplit\n",
        "import numpy as np\n",
        "import matplotlib.pyplot as plt\n",
        "from sklearn.metrics import classification_report, confusion_matrix\n",
        "import seaborn as sns\n"
      ]
    },
    {
      "cell_type": "markdown",
      "metadata": {
        "id": "nmOBOrgGhGdm"
      },
      "source": [
        "# 1. Baseline model"
      ]
    },
    {
      "cell_type": "code",
      "execution_count": null,
      "metadata": {
        "colab": {
          "base_uri": "https://localhost:8080/"
        },
        "id": "ZMOihfqtG8aP",
        "outputId": "01fcb5ee-ad86-4718-9263-f396641e4deb"
      },
      "outputs": [
        {
          "name": "stdout",
          "output_type": "stream",
          "text": [
            "done\n"
          ]
        }
      ],
      "source": [
        "# Simple CNN Model\n",
        "class BrainTumorCNN(nn.Module):\n",
        "    def __init__(self, num_classes):\n",
        "        super(BrainTumorCNN, self).__init__()\n",
        "        self.features = nn.Sequential(\n",
        "            nn.Conv2d(3, 32, kernel_size=3, stride=1, padding=1),\n",
        "            nn.ReLU(),\n",
        "            nn.MaxPool2d(2, 2),\n",
        "\n",
        "            nn.Conv2d(32, 64, kernel_size=3, stride=1, padding=1),\n",
        "            nn.ReLU(),\n",
        "            nn.MaxPool2d(2, 2),\n",
        "\n",
        "            nn.Conv2d(64, 128, kernel_size=3, stride=1, padding=1),\n",
        "            nn.ReLU(),\n",
        "            nn.MaxPool2d(2, 2)\n",
        "        )\n",
        "        self.classifier = nn.Sequential(\n",
        "            nn.Linear(128 * 28 * 28, 256),\n",
        "            nn.ReLU(),\n",
        "            nn.Dropout(0.5),\n",
        "            nn.Linear(256, num_classes)\n",
        "        )\n",
        "\n",
        "    def forward(self, x):\n",
        "        x = self.features(x)\n",
        "        x = x.view(x.size(0), -1)\n",
        "        x = self.classifier(x)\n",
        "        return x\n",
        "\n",
        "print('done')"
      ]
    },
    {
      "cell_type": "code",
      "execution_count": null,
      "metadata": {
        "id": "5AkM5FYqFD4y"
      },
      "outputs": [],
      "source": [
        "device = torch.device(\"cuda\" if torch.cuda.is_available() else \"cpu\")\n",
        "\n",
        "batch_size   = 32\n",
        "num_epochs   = 10\n",
        "learning_rate= 1e-3\n",
        "num_classes  = 4  # glioma, meningioma, no_tumor, pituitary\n",
        "\n",
        "best_val_loss = float('inf')\n",
        "patience_counter = 0\n",
        "patience = 5  # The number of epochs to wait for improvement before stopping"
      ]
    },
    {
      "cell_type": "code",
      "execution_count": null,
      "metadata": {
        "colab": {
          "base_uri": "https://localhost:8080/"
        },
        "id": "kYrVaxGnXnHr",
        "outputId": "9bdc71d8-efe0-4e1b-b36b-2d4b1dcd86c6"
      },
      "outputs": [
        {
          "name": "stdout",
          "output_type": "stream",
          "text": [
            "Train: 2592 | Val: 648 | Test: 424\n"
          ]
        },
        {
          "name": "stderr",
          "output_type": "stream",
          "text": [
            "/usr/local/lib/python3.12/dist-packages/torch/utils/data/dataloader.py:627: UserWarning: This DataLoader will create 4 worker processes in total. Our suggested max number of worker in current system is 2, which is smaller than what this DataLoader is going to create. Please be aware that excessive worker creation might get DataLoader running slow or even freeze, lower the worker number to avoid potential slowness/freeze if necessary.\n",
            "  warnings.warn(\n"
          ]
        }
      ],
      "source": [
        "# If your images are RGB (most are with ImageFolder), use 3 means/stds:\n",
        "# If they are truly grayscale, add transforms.Grayscale(1) before ToTensor and keep single mean/std.\n",
        "transform = transforms.Compose([\n",
        "    # transforms.Grayscale(1),                 # uncomment if your data is grayscale on disk\n",
        "    transforms.Resize((224, 224)),\n",
        "    transforms.ToTensor(),\n",
        "    transforms.Normalize([0.5, 0.5, 0.5],      # if RGB\n",
        "                         [0.5, 0.5, 0.5]),\n",
        "    # transforms.Normalize([0.5], [0.5]),      # if grayscale (use with Grayscale(1))\n",
        "])\n",
        "\n",
        "# Datasets\n",
        "base_train_dataset = datasets.ImageFolder(root=train_dir, transform=transform)\n",
        "test_dataset       = datasets.ImageFolder(root=test_dir,  transform=transform)\n",
        "\n",
        "# Labels for stratified split (from the *same* dataset you will subset)\n",
        "y = [label for _, label in base_train_dataset.samples]\n",
        "\n",
        "# Stratified split\n",
        "sss = StratifiedShuffleSplit(n_splits=1, test_size=0.2, random_state=42)\n",
        "train_idx, val_idx = next(sss.split(np.arange(len(y)), y))\n",
        "\n",
        "# Build subsets from the SAME base dataset\n",
        "train_dataset = Subset(base_train_dataset, train_idx)\n",
        "val_dataset   = Subset(base_train_dataset, val_idx)\n",
        "\n",
        "# Optional sanity checks to catch misalignment early\n",
        "assert max(train_idx) < len(base_train_dataset) and max(val_idx) < len(base_train_dataset)\n",
        "assert set(train_idx).isdisjoint(val_idx)\n",
        "\n",
        "# DataLoaders\n",
        "g = torch.Generator().manual_seed(42)  # reproducible shuffling\n",
        "train_loader = DataLoader(train_dataset, batch_size=batch_size, shuffle=True,\n",
        "                          num_workers=4, pin_memory=True, generator=g)\n",
        "val_loader   = DataLoader(val_dataset,   batch_size=batch_size, shuffle=False,\n",
        "                          num_workers=4, pin_memory=True)\n",
        "test_loader  = DataLoader(test_dataset,  batch_size=batch_size, shuffle=False,\n",
        "                          num_workers=4, pin_memory=True)\n",
        "\n",
        "print(f\"Train: {len(train_dataset)} | Val: {len(val_dataset)} | Test: {len(test_dataset)}\")"
      ]
    },
    {
      "cell_type": "code",
      "execution_count": null,
      "metadata": {
        "colab": {
          "base_uri": "https://localhost:8080/"
        },
        "id": "DokP4hZP4lkO",
        "outputId": "a3d7c498-ced7-4f33-ff09-d3a167f46913"
      },
      "outputs": [
        {
          "name": "stdout",
          "output_type": "stream",
          "text": [
            "Training dataset class distribution:\n",
            "pituitary_tumor: 837\n",
            "no_tumor: 316\n",
            "meningioma_tumor: 754\n",
            "glioma_tumor: 685\n"
          ]
        }
      ],
      "source": [
        "# Get class distribution\n",
        "train_classes = [label for _, label in train_dataset]\n",
        "class_counts = Counter(train_classes)\n",
        "\n",
        "# Print class distribution\n",
        "print(\"Training dataset class distribution:\")\n",
        "for class_idx, count in class_counts.items():\n",
        "    class_name = train_dataset.dataset.classes[class_idx]\n",
        "    print(f\"{class_name}: {count}\")"
      ]
    },
    {
      "cell_type": "code",
      "execution_count": null,
      "metadata": {
        "colab": {
          "base_uri": "https://localhost:8080/",
          "height": 1000
        },
        "id": "LemQKB7fGoHD",
        "outputId": "a23fec4f-929d-4769-9544-765b611a942e"
      },
      "outputs": [
        {
          "name": "stderr",
          "output_type": "stream",
          "text": [
            "Epoch 1/10 (Training):  26%|██▌       | 21/81 [00:05<00:09,  6.55it/s]"
          ]
        },
        {
          "name": "stdout",
          "output_type": "stream",
          "text": [
            "Epoch [1/10], Step [20/81], Loss: 1.4539\n"
          ]
        },
        {
          "name": "stderr",
          "output_type": "stream",
          "text": [
            "Epoch 1/10 (Training):  51%|█████     | 41/81 [00:10<00:10,  3.79it/s]"
          ]
        },
        {
          "name": "stdout",
          "output_type": "stream",
          "text": [
            "Epoch [1/10], Step [40/81], Loss: 0.7697\n"
          ]
        },
        {
          "name": "stderr",
          "output_type": "stream",
          "text": [
            "Epoch 1/10 (Training):  75%|███████▌  | 61/81 [00:14<00:03,  6.18it/s]"
          ]
        },
        {
          "name": "stdout",
          "output_type": "stream",
          "text": [
            "Epoch [1/10], Step [60/81], Loss: 0.9039\n"
          ]
        },
        {
          "name": "stderr",
          "output_type": "stream",
          "text": [
            "Epoch 1/10 (Training): 100%|██████████| 81/81 [00:17<00:00,  4.61it/s]\n"
          ]
        },
        {
          "name": "stdout",
          "output_type": "stream",
          "text": [
            "Epoch [1/10], Step [80/81], Loss: 1.0485\n",
            "Epoch 1/10 | Train Loss: 0.9984 | Train Accuracy: 60.42%\n"
          ]
        },
        {
          "name": "stderr",
          "output_type": "stream",
          "text": [
            "Epoch 1/10 (Validation): 100%|██████████| 21/21 [00:37<00:00,  1.78s/it]\n",
            "Epoch 2/10 (Training):  23%|██▎       | 19/81 [00:04<00:14,  4.26it/s]"
          ]
        },
        {
          "name": "stdout",
          "output_type": "stream",
          "text": [
            "Epoch [2/10], Step [20/81], Loss: 0.6442\n"
          ]
        },
        {
          "name": "stderr",
          "output_type": "stream",
          "text": [
            "Epoch 2/10 (Training):  48%|████▊     | 39/81 [00:08<00:06,  6.18it/s]"
          ]
        },
        {
          "name": "stdout",
          "output_type": "stream",
          "text": [
            "Epoch [2/10], Step [40/81], Loss: 0.7150\n"
          ]
        },
        {
          "name": "stderr",
          "output_type": "stream",
          "text": [
            "Epoch 2/10 (Training):  75%|███████▌  | 61/81 [00:12<00:03,  5.37it/s]"
          ]
        },
        {
          "name": "stdout",
          "output_type": "stream",
          "text": [
            "Epoch [2/10], Step [60/81], Loss: 0.5330\n"
          ]
        },
        {
          "name": "stderr",
          "output_type": "stream",
          "text": [
            "Epoch 2/10 (Training): 100%|██████████| 81/81 [00:16<00:00,  4.95it/s]\n"
          ]
        },
        {
          "name": "stdout",
          "output_type": "stream",
          "text": [
            "Epoch [2/10], Step [80/81], Loss: 0.7413\n",
            "Epoch 2/10 | Train Loss: 0.6200 | Train Accuracy: 76.16%\n"
          ]
        },
        {
          "name": "stderr",
          "output_type": "stream",
          "text": [
            "Epoch 2/10 (Validation): 100%|██████████| 21/21 [00:05<00:00,  4.00it/s]\n",
            "Epoch 3/10 (Training):  25%|██▍       | 20/81 [00:04<00:10,  6.07it/s]"
          ]
        },
        {
          "name": "stdout",
          "output_type": "stream",
          "text": [
            "Epoch [3/10], Step [20/81], Loss: 0.5045\n"
          ]
        },
        {
          "name": "stderr",
          "output_type": "stream",
          "text": [
            "Epoch 3/10 (Training):  49%|████▉     | 40/81 [00:07<00:06,  6.37it/s]"
          ]
        },
        {
          "name": "stdout",
          "output_type": "stream",
          "text": [
            "Epoch [3/10], Step [40/81], Loss: 0.4216\n"
          ]
        },
        {
          "name": "stderr",
          "output_type": "stream",
          "text": [
            "Epoch 3/10 (Training):  74%|███████▍  | 60/81 [00:12<00:03,  5.56it/s]"
          ]
        },
        {
          "name": "stdout",
          "output_type": "stream",
          "text": [
            "Epoch [3/10], Step [60/81], Loss: 0.2503\n"
          ]
        },
        {
          "name": "stderr",
          "output_type": "stream",
          "text": [
            "Epoch 3/10 (Training): 100%|██████████| 81/81 [00:16<00:00,  4.89it/s]\n"
          ]
        },
        {
          "name": "stdout",
          "output_type": "stream",
          "text": [
            "Epoch [3/10], Step [80/81], Loss: 0.3710\n",
            "Epoch 3/10 | Train Loss: 0.4256 | Train Accuracy: 82.83%\n"
          ]
        },
        {
          "name": "stderr",
          "output_type": "stream",
          "text": [
            "Epoch 3/10 (Validation): 100%|██████████| 21/21 [00:03<00:00,  5.49it/s]\n",
            "Epoch 4/10 (Training):  23%|██▎       | 19/81 [00:05<00:15,  4.11it/s]"
          ]
        },
        {
          "name": "stdout",
          "output_type": "stream",
          "text": [
            "Epoch [4/10], Step [20/81], Loss: 0.2336\n"
          ]
        },
        {
          "name": "stderr",
          "output_type": "stream",
          "text": [
            "Epoch 4/10 (Training):  48%|████▊     | 39/81 [00:09<00:07,  5.97it/s]"
          ]
        },
        {
          "name": "stdout",
          "output_type": "stream",
          "text": [
            "Epoch [4/10], Step [40/81], Loss: 0.2295\n"
          ]
        },
        {
          "name": "stderr",
          "output_type": "stream",
          "text": [
            "Epoch 4/10 (Training):  73%|███████▎  | 59/81 [00:12<00:03,  5.87it/s]"
          ]
        },
        {
          "name": "stdout",
          "output_type": "stream",
          "text": [
            "Epoch [4/10], Step [60/81], Loss: 0.2881\n"
          ]
        },
        {
          "name": "stderr",
          "output_type": "stream",
          "text": [
            "Epoch 4/10 (Training):  98%|█████████▊| 79/81 [00:16<00:00,  5.69it/s]"
          ]
        },
        {
          "name": "stdout",
          "output_type": "stream",
          "text": [
            "Epoch [4/10], Step [80/81], Loss: 0.1572\n"
          ]
        },
        {
          "name": "stderr",
          "output_type": "stream",
          "text": [
            "Epoch 4/10 (Training): 100%|██████████| 81/81 [00:17<00:00,  4.76it/s]\n"
          ]
        },
        {
          "name": "stdout",
          "output_type": "stream",
          "text": [
            "Epoch 4/10 | Train Loss: 0.3035 | Train Accuracy: 88.77%\n"
          ]
        },
        {
          "name": "stderr",
          "output_type": "stream",
          "text": [
            "Epoch 4/10 (Validation): 100%|██████████| 21/21 [00:04<00:00,  4.84it/s]\n",
            "Epoch 5/10 (Training):  26%|██▌       | 21/81 [00:04<00:09,  6.16it/s]"
          ]
        },
        {
          "name": "stdout",
          "output_type": "stream",
          "text": [
            "Epoch [5/10], Step [20/81], Loss: 0.1333\n"
          ]
        },
        {
          "name": "stderr",
          "output_type": "stream",
          "text": [
            "Epoch 5/10 (Training):  49%|████▉     | 40/81 [00:08<00:08,  4.78it/s]"
          ]
        },
        {
          "name": "stdout",
          "output_type": "stream",
          "text": [
            "Epoch [5/10], Step [40/81], Loss: 0.2491\n"
          ]
        },
        {
          "name": "stderr",
          "output_type": "stream",
          "text": [
            "Epoch 5/10 (Training):  74%|███████▍  | 60/81 [00:13<00:03,  5.43it/s]"
          ]
        },
        {
          "name": "stdout",
          "output_type": "stream",
          "text": [
            "Epoch [5/10], Step [60/81], Loss: 0.3903\n"
          ]
        },
        {
          "name": "stderr",
          "output_type": "stream",
          "text": [
            "Epoch 5/10 (Training): 100%|██████████| 81/81 [00:16<00:00,  4.82it/s]\n"
          ]
        },
        {
          "name": "stdout",
          "output_type": "stream",
          "text": [
            "Epoch [5/10], Step [80/81], Loss: 0.1630\n",
            "Epoch 5/10 | Train Loss: 0.2166 | Train Accuracy: 92.40%\n"
          ]
        },
        {
          "name": "stderr",
          "output_type": "stream",
          "text": [
            "Epoch 5/10 (Validation): 100%|██████████| 21/21 [00:03<00:00,  5.52it/s]\n",
            "Epoch 6/10 (Training):  23%|██▎       | 19/81 [00:05<00:11,  5.18it/s]"
          ]
        },
        {
          "name": "stdout",
          "output_type": "stream",
          "text": [
            "Epoch [6/10], Step [20/81], Loss: 0.1568\n"
          ]
        },
        {
          "name": "stderr",
          "output_type": "stream",
          "text": [
            "Epoch 6/10 (Training):  48%|████▊     | 39/81 [00:09<00:07,  5.66it/s]"
          ]
        },
        {
          "name": "stdout",
          "output_type": "stream",
          "text": [
            "Epoch [6/10], Step [40/81], Loss: 0.1482\n"
          ]
        },
        {
          "name": "stderr",
          "output_type": "stream",
          "text": [
            "Epoch 6/10 (Training):  73%|███████▎  | 59/81 [00:12<00:03,  6.24it/s]"
          ]
        },
        {
          "name": "stdout",
          "output_type": "stream",
          "text": [
            "Epoch [6/10], Step [60/81], Loss: 0.0234\n"
          ]
        },
        {
          "name": "stderr",
          "output_type": "stream",
          "text": [
            "Epoch 6/10 (Training): 100%|██████████| 81/81 [00:17<00:00,  4.52it/s]\n"
          ]
        },
        {
          "name": "stdout",
          "output_type": "stream",
          "text": [
            "Epoch [6/10], Step [80/81], Loss: 0.1166\n",
            "Epoch 6/10 | Train Loss: 0.1581 | Train Accuracy: 95.02%\n"
          ]
        },
        {
          "name": "stderr",
          "output_type": "stream",
          "text": [
            "Epoch 6/10 (Validation): 100%|██████████| 21/21 [00:03<00:00,  5.67it/s]\n",
            "Epoch 7/10 (Training):  23%|██▎       | 19/81 [00:04<00:10,  5.71it/s]"
          ]
        },
        {
          "name": "stdout",
          "output_type": "stream",
          "text": [
            "Epoch [7/10], Step [20/81], Loss: 0.1222\n"
          ]
        },
        {
          "name": "stderr",
          "output_type": "stream",
          "text": [
            "Epoch 7/10 (Training):  48%|████▊     | 39/81 [00:08<00:10,  3.87it/s]"
          ]
        },
        {
          "name": "stdout",
          "output_type": "stream",
          "text": [
            "Epoch [7/10], Step [40/81], Loss: 0.2506\n"
          ]
        },
        {
          "name": "stderr",
          "output_type": "stream",
          "text": [
            "Epoch 7/10 (Training):  73%|███████▎  | 59/81 [00:12<00:03,  6.14it/s]"
          ]
        },
        {
          "name": "stdout",
          "output_type": "stream",
          "text": [
            "Epoch [7/10], Step [60/81], Loss: 0.1624\n"
          ]
        },
        {
          "name": "stderr",
          "output_type": "stream",
          "text": [
            "Epoch 7/10 (Training): 100%|██████████| 81/81 [00:16<00:00,  4.91it/s]\n"
          ]
        },
        {
          "name": "stdout",
          "output_type": "stream",
          "text": [
            "Epoch [7/10], Step [80/81], Loss: 0.0616\n",
            "Epoch 7/10 | Train Loss: 0.1223 | Train Accuracy: 95.72%\n"
          ]
        },
        {
          "name": "stderr",
          "output_type": "stream",
          "text": [
            "Epoch 7/10 (Validation): 100%|██████████| 21/21 [00:04<00:00,  5.04it/s]\n",
            "Epoch 8/10 (Training):  23%|██▎       | 19/81 [00:04<00:10,  5.85it/s]"
          ]
        },
        {
          "name": "stdout",
          "output_type": "stream",
          "text": [
            "Epoch [8/10], Step [20/81], Loss: 0.0395\n"
          ]
        },
        {
          "name": "stderr",
          "output_type": "stream",
          "text": [
            "Epoch 8/10 (Training):  48%|████▊     | 39/81 [00:08<00:06,  6.09it/s]"
          ]
        },
        {
          "name": "stdout",
          "output_type": "stream",
          "text": [
            "Epoch [8/10], Step [40/81], Loss: 0.0252\n"
          ]
        },
        {
          "name": "stderr",
          "output_type": "stream",
          "text": [
            "Epoch 8/10 (Training):  73%|███████▎  | 59/81 [00:11<00:03,  6.16it/s]"
          ]
        },
        {
          "name": "stdout",
          "output_type": "stream",
          "text": [
            "Epoch [8/10], Step [60/81], Loss: 0.2038\n"
          ]
        },
        {
          "name": "stderr",
          "output_type": "stream",
          "text": [
            "Epoch 8/10 (Training): 100%|██████████| 81/81 [00:17<00:00,  4.73it/s]\n"
          ]
        },
        {
          "name": "stdout",
          "output_type": "stream",
          "text": [
            "Epoch [8/10], Step [80/81], Loss: 0.4021\n",
            "Epoch 8/10 | Train Loss: 0.1041 | Train Accuracy: 96.49%\n"
          ]
        },
        {
          "name": "stderr",
          "output_type": "stream",
          "text": [
            "Epoch 8/10 (Validation): 100%|██████████| 21/21 [00:03<00:00,  5.66it/s]\n",
            "Epoch 9/10 (Training):  23%|██▎       | 19/81 [00:03<00:10,  5.76it/s]"
          ]
        },
        {
          "name": "stdout",
          "output_type": "stream",
          "text": [
            "Epoch [9/10], Step [20/81], Loss: 0.0480\n"
          ]
        },
        {
          "name": "stderr",
          "output_type": "stream",
          "text": [
            "Epoch 9/10 (Training):  48%|████▊     | 39/81 [00:08<00:10,  3.99it/s]"
          ]
        },
        {
          "name": "stdout",
          "output_type": "stream",
          "text": [
            "Epoch [9/10], Step [40/81], Loss: 0.0745\n"
          ]
        },
        {
          "name": "stderr",
          "output_type": "stream",
          "text": [
            "Epoch 9/10 (Training):  73%|███████▎  | 59/81 [00:12<00:03,  6.50it/s]"
          ]
        },
        {
          "name": "stdout",
          "output_type": "stream",
          "text": [
            "Epoch [9/10], Step [60/81], Loss: 0.0572\n"
          ]
        },
        {
          "name": "stderr",
          "output_type": "stream",
          "text": [
            "Epoch 9/10 (Training): 100%|██████████| 81/81 [00:16<00:00,  7.33it/s]"
          ]
        },
        {
          "name": "stdout",
          "output_type": "stream",
          "text": [
            "Epoch [9/10], Step [80/81], Loss: 0.0559\n"
          ]
        },
        {
          "name": "stderr",
          "output_type": "stream",
          "text": [
            "\rEpoch 9/10 (Training): 100%|██████████| 81/81 [00:16<00:00,  5.04it/s]\n"
          ]
        },
        {
          "name": "stdout",
          "output_type": "stream",
          "text": [
            "Epoch 9/10 | Train Loss: 0.0627 | Train Accuracy: 98.11%\n"
          ]
        },
        {
          "name": "stderr",
          "output_type": "stream",
          "text": [
            "Epoch 9/10 (Validation): 100%|██████████| 21/21 [00:04<00:00,  4.90it/s]\n",
            "Epoch 10/10 (Training):  23%|██▎       | 19/81 [00:04<00:10,  5.91it/s]"
          ]
        },
        {
          "name": "stdout",
          "output_type": "stream",
          "text": [
            "Epoch [10/10], Step [20/81], Loss: 0.0144\n"
          ]
        },
        {
          "name": "stderr",
          "output_type": "stream",
          "text": [
            "Epoch 10/10 (Training):  49%|████▉     | 40/81 [00:08<00:05,  7.13it/s]"
          ]
        },
        {
          "name": "stdout",
          "output_type": "stream",
          "text": [
            "Epoch [10/10], Step [40/81], Loss: 0.0151\n"
          ]
        },
        {
          "name": "stderr",
          "output_type": "stream",
          "text": [
            "Epoch 10/10 (Training):  73%|███████▎  | 59/81 [00:12<00:04,  5.45it/s]"
          ]
        },
        {
          "name": "stdout",
          "output_type": "stream",
          "text": [
            "Epoch [10/10], Step [60/81], Loss: 0.0575\n"
          ]
        },
        {
          "name": "stderr",
          "output_type": "stream",
          "text": [
            "Epoch 10/10 (Training): 100%|██████████| 81/81 [00:17<00:00,  4.70it/s]\n"
          ]
        },
        {
          "name": "stdout",
          "output_type": "stream",
          "text": [
            "Epoch [10/10], Step [80/81], Loss: 0.0496\n",
            "Epoch 10/10 | Train Loss: 0.0556 | Train Accuracy: 98.11%\n"
          ]
        },
        {
          "name": "stderr",
          "output_type": "stream",
          "text": [
            "Epoch 10/10 (Validation): 100%|██████████| 21/21 [00:03<00:00,  5.59it/s]"
          ]
        },
        {
          "name": "stdout",
          "output_type": "stream",
          "text": [
            "Epoch 10/10 | Validation Loss: 0.3790 | Validation Accuracy: 89.81%\n"
          ]
        },
        {
          "name": "stderr",
          "output_type": "stream",
          "text": [
            "\n"
          ]
        },
        {
          "ename": "SyntaxError",
          "evalue": "'break' outside loop (ipython-input-114788958.py, line 79)",
          "output_type": "error",
          "traceback": [
            "\u001b[0;36m  File \u001b[0;32m\"/tmp/ipython-input-114788958.py\"\u001b[0;36m, line \u001b[0;32m79\u001b[0m\n\u001b[0;31m    break\u001b[0m\n\u001b[0m    ^\u001b[0m\n\u001b[0;31mSyntaxError\u001b[0m\u001b[0;31m:\u001b[0m 'break' outside loop\n"
          ]
        }
      ],
      "source": [
        "model = BrainTumorCNN(num_classes=num_classes).to(device)\n",
        "\n",
        "# Loss and optimizer\n",
        "criterion = nn.CrossEntropyLoss()\n",
        "optimizer = optim.Adam(model.parameters(), lr=learning_rate)\n",
        "\n",
        "# Training loop\n",
        "train_losses = []\n",
        "val_losses = []\n",
        "\n",
        "for epoch in range(num_epochs):\n",
        "    model.train()\n",
        "    running_loss = 0.0\n",
        "    correct = 0\n",
        "    total = 0\n",
        "\n",
        "    for i, (images, labels) in enumerate(tqdm(train_loader, desc=f'Epoch {epoch+1}/{num_epochs} (Training)')):\n",
        "        images, labels = images.to(device), labels.to(device)\n",
        "\n",
        "        optimizer.zero_grad()\n",
        "        outputs = model(images)\n",
        "        loss = criterion(outputs, labels)\n",
        "        loss.backward()\n",
        "        optimizer.step()\n",
        "\n",
        "        running_loss += loss.item() * images.size(0)\n",
        "        _, predicted = outputs.max(1)\n",
        "        total += labels.size(0)\n",
        "        correct += predicted.eq(labels).sum().item()\n",
        "\n",
        "        if (i + 1) % 20 == 0:\n",
        "            print(f'Epoch [{epoch+1}/{num_epochs}], Step [{i+1}/{len(train_loader)}], Loss: {loss.item():.4f}')\n",
        "\n",
        "\n",
        "    epoch_train_loss = running_loss / len(train_loader.dataset)\n",
        "    train_accuracy = 100. * correct / total\n",
        "    train_losses.append(epoch_train_loss)\n",
        "    print(f'Epoch {epoch+1}/{num_epochs} | Train Loss: {epoch_train_loss:.4f} | Train Accuracy: {train_accuracy:.2f}%')\n",
        "\n",
        "\n",
        "    # Validation loop\n",
        "    model.eval()\n",
        "    running_val_loss = 0.0\n",
        "    correct_val = 0\n",
        "    total_val = 0\n",
        "    with torch.no_grad():\n",
        "        for images_val, labels_val in tqdm(val_loader, desc=f'Epoch {epoch+1}/{num_epochs} (Validation)'):\n",
        "            images_val, labels_val = images_val.to(device), labels_val.to(device)\n",
        "            outputs_val = model(images_val)\n",
        "            loss_val = criterion(outputs_val, labels_val)\n",
        "\n",
        "            running_val_loss += loss_val.item() * images_val.size(0)\n",
        "            _, predicted_val = outputs_val.max(1)\n",
        "            total_val += labels_val.size(0)\n",
        "            correct_val += predicted_val.eq(labels_val).sum().item()\n",
        "\n",
        "    epoch_val_loss = running_val_loss / len(val_loader.dataset)\n",
        "    val_accuracy = 100. * correct_val / total_val\n",
        "    val_losses.append(epoch_val_loss)\n",
        "\n",
        "    # After the validation loop...\n",
        "epoch_val_loss = running_val_loss / len(val_loader.dataset)\n",
        "val_accuracy = 100. * correct_val / total_val\n",
        "val_losses.append(epoch_val_loss)\n",
        "print(f'Epoch {epoch+1}/{num_epochs} | Validation Loss: {epoch_val_loss:.4f} | Validation Accuracy: {val_accuracy:.2f}%')\n",
        "\n",
        "# Early Stopping Logic\n",
        "if epoch_val_loss < best_val_loss:\n",
        "    best_val_loss = epoch_val_loss\n",
        "    patience_counter = 0\n",
        "    # Optional: Save the best model state\n",
        "    # torch.save(model.state_dict(), 'best_model.pth')\n",
        "else:\n",
        "    patience_counter += 1\n",
        "    print(f\"Patience: {patience_counter}/{patience}\")\n",
        "\n",
        "if patience_counter >= patience:\n",
        "    print(\"Early stopping triggered!\")\n",
        "    break\n",
        "\n",
        "    print(f'Epoch {epoch+1}/{num_epochs} | Validation Loss: {epoch_val_loss:.4f} | Validation Accuracy: {val_accuracy:.2f}%')"
      ]
    },
    {
      "cell_type": "code",
      "execution_count": null,
      "metadata": {
        "colab": {
          "base_uri": "https://localhost:8080/",
          "height": 487
        },
        "id": "uLC6dsf25ZoR",
        "outputId": "6f864f0e-1ecd-4b46-eebd-20225cb8f8d9"
      },
      "outputs": [
        {
          "data": {
            "image/png": "[encoded data removed]",
            "text/plain": [
              "<Figure size 1000x500 with 1 Axes>"
            ]
          },
          "metadata": {},
          "output_type": "display_data"
        }
      ],
      "source": [
        "# Plot training and validation loss curves\n",
        "plt.figure(figsize=(10, 5))\n",
        "plt.plot(train_losses, label='Training Loss')\n",
        "plt.plot(val_losses, label='Validation Loss')\n",
        "plt.xlabel('Epoch')\n",
        "plt.ylabel('Loss')\n",
        "plt.title('Training and Validation Loss Curves')\n",
        "plt.legend()\n",
        "plt.grid(True)\n",
        "plt.show()"
      ]
    },
    {
      "cell_type": "code",
      "execution_count": null,
      "metadata": {
        "colab": {
          "base_uri": "https://localhost:8080/",
          "height": 772
        },
        "id": "437e36fb",
        "outputId": "371a9e62-8773-445b-fcaf-7a8df9503e7e"
      },
      "outputs": [
        {
          "name": "stdout",
          "output_type": "stream",
          "text": [
            "Classification Report:\n",
            "                  precision    recall  f1-score   support\n",
            "\n",
            "    glioma_tumor       0.66      0.21      0.32       100\n",
            "meningioma_tumor       0.70      0.88      0.78       135\n",
            "        no_tumor       0.66      0.97      0.79       115\n",
            " pituitary_tumor       0.87      0.64      0.73        74\n",
            "\n",
            "        accuracy                           0.71       424\n",
            "       macro avg       0.72      0.68      0.66       424\n",
            "    weighted avg       0.71      0.71      0.67       424\n",
            "\n"
          ]
        },
        {
          "data": {
            "image/png": "[encoded data removed]",
            "text/plain": [
              "<Figure size 800x600 with 2 Axes>"
            ]
          },
          "metadata": {},
          "output_type": "display_data"
        }
      ],
      "source": [
        "# Evaluation on Test Set\n",
        "model.eval()\n",
        "all_labels = []\n",
        "all_predictions = []\n",
        "with torch.no_grad():\n",
        "    for images, labels in test_loader:\n",
        "        images, labels = images.to(device), labels.to(device)\n",
        "        outputs = model(images)\n",
        "        _, predicted = outputs.max(1)\n",
        "        all_labels.extend(labels.cpu().numpy())\n",
        "        all_predictions.extend(predicted.cpu().numpy())\n",
        "\n",
        "# Classification Report\n",
        "print(\"Classification Report:\")\n",
        "print(classification_report(all_labels, all_predictions, target_names=test_dataset.classes))\n",
        "\n",
        "# Confusion Matrix\n",
        "cm = confusion_matrix(all_labels, all_predictions)\n",
        "plt.figure(figsize=(8, 6))\n",
        "sns.heatmap(cm, annot=True, fmt='d', cmap='Blues', xticklabels=test_dataset.classes, yticklabels=test_dataset.classes)\n",
        "plt.xlabel('Predicted')\n",
        "plt.ylabel('True')\n",
        "plt.title('Confusion Matrix')\n",
        "plt.show()"
      ]
    },
    {
      "cell_type": "markdown",
      "metadata": {
        "id": "LpZ6s2GOFOEt"
      },
      "source": [
        "# 2. Fine-tune pretrained model"
      ]
    },
    {
      "cell_type": "code",
      "execution_count": null,
      "metadata": {
        "colab": {
          "base_uri": "https://localhost:8080/",
          "height": 1000
        },
        "id": "Wp81XRajsiGq",
        "outputId": "9643bac1-5aff-47ab-aae9-26568caf7129"
      },
      "outputs": [
        {
          "output_type": "stream",
          "name": "stdout",
          "text": [
            "Number of classes: 4\n",
            "Classes: ['glioma_tumor', 'meningioma_tumor', 'no_tumor', 'pituitary_tumor']\n"
          ]
        },
        {
          "output_type": "stream",
          "name": "stderr",
          "text": [
            "/usr/local/lib/python3.12/dist-packages/torch/utils/data/dataloader.py:627: UserWarning: This DataLoader will create 4 worker processes in total. Our suggested max number of worker in current system is 2, which is smaller than what this DataLoader is going to create. Please be aware that excessive worker creation might get DataLoader running slow or even freeze, lower the worker number to avoid potential slowness/freeze if necessary.\n",
            "  warnings.warn(\n"
          ]
        },
        {
          "output_type": "stream",
          "name": "stdout",
          "text": [
            "Downloading: \"https://download.pytorch.org/models/resnet50-11ad3fa6.pth\" to /root/.cache/torch/hub/checkpoints/resnet50-11ad3fa6.pth\n"
          ]
        },
        {
          "output_type": "stream",
          "name": "stderr",
          "text": [
            "100%|██████████| 97.8M/97.8M [00:00<00:00, 192MB/s]\n",
            "/tmp/ipython-input-1431950156.py:163: FutureWarning: `torch.cuda.amp.GradScaler(args...)` is deprecated. Please use `torch.amp.GradScaler('cuda', args...)` instead.\n",
            "  scaler = torch.cuda.amp.GradScaler(enabled=device.type == \"cuda\")\n",
            "/tmp/ipython-input-1431950156.py:207: FutureWarning: `torch.cuda.amp.autocast(args...)` is deprecated. Please use `torch.amp.autocast('cuda', args...)` instead.\n",
            "  with torch.cuda.amp.autocast(enabled=device.type == \"cuda\"):\n",
            "/usr/local/lib/python3.12/dist-packages/torch/optim/lr_scheduler.py:192: UserWarning: Detected call of `lr_scheduler.step()` before `optimizer.step()`. In PyTorch 1.1.0 and later, you should call them in the opposite order: `optimizer.step()` before `lr_scheduler.step()`.  Failure to do this will result in PyTorch skipping the first value of the learning rate schedule. See more details at https://pytorch.org/docs/stable/optim.html#how-to-adjust-learning-rate\n",
            "  warnings.warn(\n",
            "/tmp/ipython-input-1431950156.py:176: FutureWarning: `torch.cuda.amp.autocast(args...)` is deprecated. Please use `torch.amp.autocast('cuda', args...)` instead.\n",
            "  with torch.cuda.amp.autocast(enabled=device.type == \"cuda\"):\n"
          ]
        },
        {
          "output_type": "stream",
          "name": "stdout",
          "text": [
            "Epoch 001/40 | train_loss=0.9816 | val_loss=0.8001 | val_acc=0.6420 | lr=4.03e-05\n",
            "Epoch 002/40 | train_loss=0.3179 | val_loss=0.2806 | val_acc=0.9151 | lr=6.97e-05\n",
            "Epoch 003/40 | train_loss=0.1380 | val_loss=0.3205 | val_acc=0.8627 | lr=1.14e-04\n",
            "Epoch 004/40 | train_loss=0.1168 | val_loss=0.2667 | val_acc=0.8781 | lr=1.65e-04\n",
            "Epoch 005/40 | train_loss=0.0922 | val_loss=0.2967 | val_acc=0.9043 | lr=2.17e-04\n",
            "Epoch 006/40 | train_loss=0.0810 | val_loss=0.1296 | val_acc=0.9552 | lr=2.61e-04\n",
            "Epoch 007/40 | train_loss=0.0726 | val_loss=0.1406 | val_acc=0.9383 | lr=2.90e-04\n",
            "Epoch 008/40 | train_loss=0.1124 | val_loss=0.1750 | val_acc=0.9213 | lr=3.00e-04\n",
            "Epoch 009/40 | train_loss=0.0801 | val_loss=0.0739 | val_acc=0.9676 | lr=2.99e-04\n",
            "Epoch 010/40 | train_loss=0.0475 | val_loss=0.0974 | val_acc=0.9630 | lr=2.97e-04\n",
            "Epoch 011/40 | train_loss=0.0144 | val_loss=0.2352 | val_acc=0.9336 | lr=2.94e-04\n",
            "Epoch 012/40 | train_loss=0.0221 | val_loss=0.0858 | val_acc=0.9738 | lr=2.89e-04\n",
            "Epoch 013/40 | train_loss=0.0244 | val_loss=0.0564 | val_acc=0.9784 | lr=2.82e-04\n",
            "Epoch 014/40 | train_loss=0.0214 | val_loss=0.0690 | val_acc=0.9630 | lr=2.75e-04\n",
            "Epoch 015/40 | train_loss=0.0221 | val_loss=0.0861 | val_acc=0.9676 | lr=2.66e-04\n",
            "Epoch 016/40 | train_loss=0.0131 | val_loss=0.0387 | val_acc=0.9815 | lr=2.56e-04\n",
            "Epoch 017/40 | train_loss=0.0147 | val_loss=0.0548 | val_acc=0.9799 | lr=2.46e-04\n",
            "Epoch 018/40 | train_loss=0.0126 | val_loss=0.0493 | val_acc=0.9815 | lr=2.34e-04\n",
            "Epoch 019/40 | train_loss=0.0133 | val_loss=0.1178 | val_acc=0.9537 | lr=2.21e-04\n",
            "Epoch 020/40 | train_loss=0.0100 | val_loss=0.0644 | val_acc=0.9722 | lr=2.08e-04\n",
            "Epoch 021/40 | train_loss=0.0126 | val_loss=0.0605 | val_acc=0.9784 | lr=1.94e-04\n",
            "Epoch 022/40 | train_loss=0.0082 | val_loss=0.0535 | val_acc=0.9830 | lr=1.80e-04\n",
            "Epoch 023/40 | train_loss=0.0090 | val_loss=0.0930 | val_acc=0.9722 | lr=1.66e-04\n",
            "Epoch 024/40 | train_loss=0.0044 | val_loss=0.0501 | val_acc=0.9846 | lr=1.51e-04\n",
            "Epoch 025/40 | train_loss=0.0066 | val_loss=0.0644 | val_acc=0.9784 | lr=1.37e-04\n",
            "Epoch 026/40 | train_loss=0.0066 | val_loss=0.0993 | val_acc=0.9645 | lr=1.22e-04\n",
            "Early stopping triggered after 10 epochs with no improvement.\n"
          ]
        },
        {
          "output_type": "display_data",
          "data": {
            "text/plain": [
              "<Figure size 1000x500 with 1 Axes>"
            ],
            "image/png": "[encoded data removed]"
          },
          "metadata": {}
        },
        {
          "output_type": "stream",
          "name": "stdout",
          "text": [
            "\n",
            "Final Test Acc: 0.7830\n",
            "\n",
            "Classification report (TEST):\n",
            "                  precision    recall  f1-score   support\n",
            "\n",
            "    glioma_tumor      1.000     0.240     0.387       100\n",
            "meningioma_tumor      0.756     0.985     0.855       135\n",
            "        no_tumor      0.710     1.000     0.830       115\n",
            " pituitary_tumor      0.968     0.811     0.882        74\n",
            "\n",
            "        accuracy                          0.783       424\n",
            "       macro avg      0.858     0.759     0.739       424\n",
            "    weighted avg      0.838     0.783     0.743       424\n",
            "\n"
          ]
        },
        {
          "output_type": "error",
          "ename": "NameError",
          "evalue": "name 'cm' is not defined",
          "traceback": [
            "\u001b[0;31m---------------------------------------------------------------------------\u001b[0m",
            "\u001b[0;31mNameError\u001b[0m                                 Traceback (most recent call last)",
            "\u001b[0;32m/tmp/ipython-input-1431950156.py\u001b[0m in \u001b[0;36m<cell line: 0>\u001b[0;34m()\u001b[0m\n\u001b[1;32m    262\u001b[0m \u001b[0;34m\u001b[0m\u001b[0m\n\u001b[1;32m    263\u001b[0m \u001b[0mplt\u001b[0m\u001b[0;34m.\u001b[0m\u001b[0mfigure\u001b[0m\u001b[0;34m(\u001b[0m\u001b[0mfigsize\u001b[0m\u001b[0;34m=\u001b[0m\u001b[0;34m(\u001b[0m\u001b[0;36m8\u001b[0m\u001b[0;34m,\u001b[0m \u001b[0;36m6\u001b[0m\u001b[0;34m)\u001b[0m\u001b[0;34m)\u001b[0m\u001b[0;34m\u001b[0m\u001b[0;34m\u001b[0m\u001b[0m\n\u001b[0;32m--> 264\u001b[0;31m \u001b[0msns\u001b[0m\u001b[0;34m.\u001b[0m\u001b[0mheatmap\u001b[0m\u001b[0;34m(\u001b[0m\u001b[0mcm\u001b[0m\u001b[0;34m,\u001b[0m \u001b[0mannot\u001b[0m\u001b[0;34m=\u001b[0m\u001b[0;32mTrue\u001b[0m\u001b[0;34m,\u001b[0m \u001b[0mfmt\u001b[0m\u001b[0;34m=\u001b[0m\u001b[0;34m'd'\u001b[0m\u001b[0;34m,\u001b[0m \u001b[0mcmap\u001b[0m\u001b[0;34m=\u001b[0m\u001b[0;34m'Blues'\u001b[0m\u001b[0;34m,\u001b[0m \u001b[0mxticklabels\u001b[0m\u001b[0;34m=\u001b[0m\u001b[0mtest_dataset\u001b[0m\u001b[0;34m.\u001b[0m\u001b[0mclasses\u001b[0m\u001b[0;34m,\u001b[0m \u001b[0myticklabels\u001b[0m\u001b[0;34m=\u001b[0m\u001b[0mtest_dataset\u001b[0m\u001b[0;34m.\u001b[0m\u001b[0mclasses\u001b[0m\u001b[0;34m)\u001b[0m\u001b[0;34m\u001b[0m\u001b[0;34m\u001b[0m\u001b[0m\n\u001b[0m\u001b[1;32m    265\u001b[0m \u001b[0mplt\u001b[0m\u001b[0;34m.\u001b[0m\u001b[0mxlabel\u001b[0m\u001b[0;34m(\u001b[0m\u001b[0;34m'Predicted'\u001b[0m\u001b[0;34m)\u001b[0m\u001b[0;34m\u001b[0m\u001b[0;34m\u001b[0m\u001b[0m\n\u001b[1;32m    266\u001b[0m \u001b[0mplt\u001b[0m\u001b[0;34m.\u001b[0m\u001b[0mylabel\u001b[0m\u001b[0;34m(\u001b[0m\u001b[0;34m'True'\u001b[0m\u001b[0;34m)\u001b[0m\u001b[0;34m\u001b[0m\u001b[0;34m\u001b[0m\u001b[0m\n",
            "\u001b[0;31mNameError\u001b[0m: name 'cm' is not defined"
          ]
        },
        {
          "output_type": "display_data",
          "data": {
            "text/plain": [
              "<Figure size 800x600 with 0 Axes>"
            ]
          },
          "metadata": {}
        }
      ],
      "source": [
        "import os, math, copy, time\n",
        "import torch\n",
        "import torch.nn as nn\n",
        "from torch.utils.data import DataLoader, WeightedRandomSampler, Subset\n",
        "from torchvision import datasets, transforms, models\n",
        "from sklearn.metrics import classification_report, confusion_matrix\n",
        "from sklearn.model_selection import StratifiedShuffleSplit\n",
        "import numpy as np\n",
        "import matplotlib.pyplot as plt # Import matplotlib for plotting\n",
        "\n",
        "# --------------------------\n",
        "# Config - SET YOUR PATHS HERE!\n",
        "# --------------------------\n",
        "train_dir = os.path.join(os.getcwd(), 'Training')  # UPDATE THIS PATH\n",
        "test_dir = os.path.join(os.getcwd(), 'Testing')    # UPDATE THIS PATH\n",
        "\n",
        "model_name    = \"resnet50\"           # choose: \"resnet50\" or \"efficientnet_b0\"\n",
        "epochs        = 40                   # 30–40 recommended\n",
        "batch_size    = 32\n",
        "max_lr        = 3e-4                 # OneCycle peak LR\n",
        "weight_decay  = 1e-4\n",
        "num_workers   = 4\n",
        "seed          = 42\n",
        "device        = torch.device(\"cuda\" if torch.cuda.is_available() else \"cpu\")\n",
        "torch.manual_seed(seed); np.random.seed(seed)\n",
        "\n",
        "# Early Stopping Parameters\n",
        "patience = 10  # Number of epochs to wait after last improvement\n",
        "best_val_loss = float('inf') # Initialize with infinity for monitoring loss\n",
        "patience_counter = 0\n",
        "\n",
        "\n",
        "# -----------------------\n",
        "# Define base transforms first - THIS FIXES THE base_tf ERROR!\n",
        "# -----------------------\n",
        "if model_name == \"resnet50\":\n",
        "    # ImageNet normalization values\n",
        "    mean = [0.485, 0.456, 0.406]\n",
        "    std = [0.229, 0.224, 0.225]\n",
        "    crop_size = 224\n",
        "    resize_size = 256\n",
        "elif model_name == \"efficientnet_b0\":\n",
        "    # ImageNet normalization values\n",
        "    mean = [0.485, 0.456, 0.406]\n",
        "    std = [0.229, 0.224, 0.225]\n",
        "    crop_size = 224\n",
        "    resize_size = 256\n",
        "else:\n",
        "    raise ValueError(\"Unsupported model_name\")\n",
        "\n",
        "# -----------------------\n",
        "# Define transforms\n",
        "# -----------------------\n",
        "train_tf = transforms.Compose([\n",
        "    transforms.RandomResizedCrop(crop_size, scale=(0.85, 1.0)),\n",
        "    transforms.RandomRotation(10),\n",
        "    # transforms.RandomHorizontalFlip(p=0.5),  # enable only if flips make sense anatomically\n",
        "    transforms.ToTensor(),\n",
        "    transforms.Normalize(mean=mean, std=std),\n",
        "])\n",
        "\n",
        "val_tf = transforms.Compose([\n",
        "    transforms.Resize(resize_size),\n",
        "    transforms.CenterCrop(crop_size),\n",
        "    transforms.ToTensor(),\n",
        "    transforms.Normalize(mean=mean, std=std),\n",
        "])\n",
        "\n",
        "test_tf = val_tf  # usually same as val\n",
        "\n",
        "# -----------------------\n",
        "# Datasets\n",
        "# -----------------------\n",
        "base_train_dataset = datasets.ImageFolder(root=train_dir, transform=train_tf)\n",
        "test_dataset       = datasets.ImageFolder(root=test_dir,  transform=test_tf)\n",
        "\n",
        "# NOW we can determine num_classes\n",
        "num_classes = len(base_train_dataset.classes)\n",
        "print(f\"Number of classes: {num_classes}\")\n",
        "print(f\"Classes: {base_train_dataset.classes}\")\n",
        "\n",
        "# Stratified split\n",
        "y = [label for _, label in base_train_dataset.samples]\n",
        "sss = StratifiedShuffleSplit(n_splits=1, test_size=0.2, random_state=42)\n",
        "train_idx, val_idx = next(sss.split(np.arange(len(y)), y))\n",
        "\n",
        "train_dataset = Subset(base_train_dataset, train_idx)\n",
        "# Important: validation subset must apply val_tf (not train_tf), so re-wrap\n",
        "base_val_dataset = datasets.ImageFolder(root=train_dir, transform=val_tf)\n",
        "val_dataset   = Subset(base_val_dataset, val_idx)\n",
        "\n",
        "# Sanity checks\n",
        "assert set(train_idx).isdisjoint(val_idx)\n",
        "\n",
        "# --------------------------\n",
        "# Class weights (inverse frequency) + sampler\n",
        "# --------------------------\n",
        "# Targets only from the TRAIN subset (use indices!)\n",
        "train_targets = np.array([base_train_dataset.samples[i][1] for i in train_idx])\n",
        "class_counts = torch.bincount(torch.tensor(train_targets), minlength=num_classes).float().clamp(min=1.0)\n",
        "\n",
        "# Weighted CE (normalized)\n",
        "cls_weights = (class_counts.sum() / (num_classes * class_counts)).to(device)\n",
        "\n",
        "# Per-sample weights aligned to the Subset order\n",
        "subset_weights = torch.tensor([1.0 / class_counts[base_train_dataset.samples[i][1]] for i in train_idx],\n",
        "                              dtype=torch.double)\n",
        "sampler = WeightedRandomSampler(weights=subset_weights,\n",
        "                                num_samples=len(subset_weights),\n",
        "                                replacement=True)\n",
        "\n",
        "# -----------------------\n",
        "# DataLoaders\n",
        "# -----------------------\n",
        "# Rebuild loaders: sampler for train, vanilla for val/test\n",
        "train_loader = DataLoader(train_dataset, batch_size=batch_size, sampler=sampler,\n",
        "                          num_workers=num_workers, pin_memory=True)\n",
        "val_loader   = DataLoader(val_dataset,   batch_size=batch_size, shuffle=False,\n",
        "                          num_workers=num_workers, pin_memory=True)\n",
        "test_loader  = DataLoader(test_dataset,  batch_size=batch_size, shuffle=False,\n",
        "                          num_workers=num_workers, pin_memory=True)\n",
        "\n",
        "# --------------------------\n",
        "# Model (choose one)\n",
        "# --------------------------\n",
        "\n",
        "if model_name == \"resnet50\":\n",
        "    from torchvision.models import ResNet50_Weights\n",
        "    weights = ResNet50_Weights.IMAGENET1K_V2\n",
        "    model = models.resnet50(weights=weights)\n",
        "    in_features = model.fc.in_features\n",
        "    model.fc = nn.Linear(in_features, num_classes)\n",
        "\n",
        "elif model_name == \"efficientnet_b0\":\n",
        "    from torchvision.models import EfficientNet_B0_Weights\n",
        "    weights = EfficientNet_B0_Weights.IMAGENET1K_V1\n",
        "    model = models.efficientnet_b0(weights=weights)\n",
        "    in_features = model.classifier[-1].in_features\n",
        "    model.classifier[-1] = nn.Linear(in_features, num_classes)\n",
        "\n",
        "else:\n",
        "    raise ValueError(\"model_name must be 'resnet50' or 'efficientnet_b0'\")\n",
        "\n",
        "model = model.to(device)\n",
        "\n",
        "# --------------------------\n",
        "# Loss / Optimizer / OneCycleLR\n",
        "# --------------------------\n",
        "criterion = nn.CrossEntropyLoss(weight=cls_weights)\n",
        "optimizer = torch.optim.AdamW(model.parameters(), lr=max_lr, weight_decay=weight_decay)\n",
        "\n",
        "steps_per_epoch = len(train_loader)\n",
        "scheduler = torch.optim.lr_scheduler.OneCycleLR(\n",
        "    optimizer,\n",
        "    max_lr=max_lr,\n",
        "    epochs=epochs,\n",
        "    steps_per_epoch=steps_per_epoch,\n",
        "    pct_start=0.2,\n",
        "    div_factor=10.0,\n",
        "    final_div_factor=10.0\n",
        ")\n",
        "\n",
        "scaler = torch.cuda.amp.GradScaler(enabled=device.type == \"cuda\")\n",
        "\n",
        "# --------------------------\n",
        "# Eval helper\n",
        "# --------------------------\n",
        "@torch.no_grad()\n",
        "def evaluate(model, loader):\n",
        "    model.eval()\n",
        "    total, correct = 0, 0\n",
        "    all_preds, all_labels = [], []\n",
        "    running_loss = 0.0 # Added to calculate validation loss\n",
        "    for x, y in loader:\n",
        "        x, y = x.to(device), y.to(device)\n",
        "        with torch.cuda.amp.autocast(enabled=device.type == \"cuda\"):\n",
        "            logits = model(x)\n",
        "            loss = criterion(logits, y) # Calculate validation loss\n",
        "        running_loss += loss.item() * x.size(0) # Accumulate validation loss\n",
        "        preds = logits.argmax(dim=1)\n",
        "        all_preds.append(preds.cpu())\n",
        "        all_labels.append(y.cpu())\n",
        "        correct += (preds == y).sum().item()\n",
        "        total += y.size(0)\n",
        "    all_preds = torch.cat(all_preds).numpy()\n",
        "    all_labels = torch.cat(all_labels).numpy()\n",
        "    avg_loss = running_loss / total # Calculate average validation loss\n",
        "    return (correct / total), all_labels, all_preds, avg_loss # Return validation loss\n",
        "\n",
        "# --------------------------\n",
        "# Train loop (AMP + OneCycle + best checkpoint + Early Stopping)\n",
        "# --------------------------\n",
        "best_w = copy.deepcopy(model.state_dict())\n",
        "best_val_loss = float('inf') # Initialize with infinity for monitoring loss\n",
        "patience_counter = 0\n",
        "t0 = time.time()\n",
        "train_losses = [] # List to store training losses\n",
        "val_losses = []   # List to store validation losses\n",
        "\n",
        "\n",
        "for epoch in range(epochs):\n",
        "    model.train()\n",
        "    running_loss = 0.0\n",
        "    for x, y in train_loader:\n",
        "        x, y = x.to(device), y.to(device)\n",
        "        optimizer.zero_grad(set_to_none=True)\n",
        "        with torch.cuda.amp.autocast(enabled=device.type == \"cuda\"):\n",
        "            logits = model(x)\n",
        "            loss = criterion(logits, y)\n",
        "        scaler.scale(loss).backward()\n",
        "        scaler.step(optimizer)\n",
        "        scaler.update()\n",
        "        scheduler.step()\n",
        "        running_loss += loss.item()\n",
        "\n",
        "    train_loss = running_loss / max(1, len(train_loader))\n",
        "    train_losses.append(train_loss) # Append training loss\n",
        "\n",
        "    val_acc, _, _, val_loss = evaluate(model, val_loader) # Get validation loss\n",
        "    val_losses.append(val_loss) # Append validation loss\n",
        "\n",
        "\n",
        "    if val_loss < best_val_loss: # Check if validation loss improved\n",
        "        best_val_loss = val_loss\n",
        "        best_w = copy.deepcopy(model.state_dict())\n",
        "        patience_counter = 0 # Reset patience counter\n",
        "    else:\n",
        "        patience_counter += 1 # Increment patience counter\n",
        "\n",
        "    print(f\"Epoch {epoch+1:03d}/{epochs} | train_loss={train_loss:.4f} | val_loss={val_loss:.4f} | val_acc={val_acc:.4f} \" # Added validation loss to output\n",
        "          f\"| lr={scheduler.get_last_lr()[0]:.2e}\")\n",
        "\n",
        "    # Early Stopping Check\n",
        "    if patience_counter >= patience:\n",
        "        print(f\"Early stopping triggered after {patience} epochs with no improvement.\")\n",
        "        break # Break the training loop\n",
        "\n",
        "model.load_state_dict(best_w)\n",
        "\n",
        "# --------------------------\n",
        "# Plotting Loss Curves\n",
        "# --------------------------\n",
        "plt.figure(figsize=(10, 5))\n",
        "plt.plot(train_losses, label='Training Loss')\n",
        "plt.plot(val_losses, label='Validation Loss')\n",
        "plt.xlabel('Epoch')\n",
        "plt.ylabel('Loss')\n",
        "plt.title('Training and Validation Loss Curves')\n",
        "plt.legend()\n",
        "plt.grid(True)\n",
        "plt.show()\n",
        "\n",
        "\n",
        "# --------------------------\n",
        "# Final validation report\n",
        "# --------------------------\n",
        "test_acc, y_true, y_pred, _ = evaluate(model, test_loader) # Added _ to ignore validation loss\n",
        "print(f\"\\nFinal Test Acc: {test_acc:.4f}\")\n",
        "print(\"\\nClassification report (TEST):\")\n",
        "print(classification_report(y_true, y_pred, target_names=[c for c in base_train_dataset.classes], digits=3))\n",
        "\n",
        "\n",
        "plt.figure(figsize=(8, 6))\n",
        "sns.heatmap(cm, annot=True, fmt='d', cmap='Blues', xticklabels=test_dataset.classes, yticklabels=test_dataset.classes)\n",
        "plt.xlabel('Predicted')\n",
        "plt.ylabel('True')\n",
        "plt.title('Confusion Matrix')\n",
        "plt.show()\n",
        "\n",
        "print(\"\\nConfusion matrix (TEST):\")\n",
        "print(confusion_matrix(y_true, y_pred))"
      ]
    },
    {
      "cell_type": "code",
      "source": [
        "cm = confusion_matrix(all_labels, all_predictions)\n",
        "plt.figure(figsize=(8, 6))\n",
        "sns.heatmap(cm, annot=True, fmt='d', cmap='Blues', xticklabels=test_dataset.classes, yticklabels=test_dataset.classes)\n",
        "plt.xlabel('Predicted')\n",
        "plt.ylabel('True')\n",
        "plt.title('Confusion Matrix')\n",
        "plt.show()"
      ],
      "metadata": {
        "colab": {
          "base_uri": "https://localhost:8080/",
          "height": 216
        },
        "id": "b6Bs0JSwv6wn",
        "outputId": "97cd7e4c-4a9e-4634-9819-1f45099a44bc"
      },
      "execution_count": null,
      "outputs": [
        {
          "output_type": "error",
          "ename": "NameError",
          "evalue": "name 'all_labels' is not defined",
          "traceback": [
            "\u001b[0;31m---------------------------------------------------------------------------\u001b[0m",
            "\u001b[0;31mNameError\u001b[0m                                 Traceback (most recent call last)",
            "\u001b[0;32m/tmp/ipython-input-1585770903.py\u001b[0m in \u001b[0;36m<cell line: 0>\u001b[0;34m()\u001b[0m\n\u001b[0;32m----> 1\u001b[0;31m \u001b[0mcm\u001b[0m \u001b[0;34m=\u001b[0m \u001b[0mconfusion_matrix\u001b[0m\u001b[0;34m(\u001b[0m\u001b[0mall_labels\u001b[0m\u001b[0;34m,\u001b[0m \u001b[0mall_predictions\u001b[0m\u001b[0;34m)\u001b[0m\u001b[0;34m\u001b[0m\u001b[0;34m\u001b[0m\u001b[0m\n\u001b[0m\u001b[1;32m      2\u001b[0m \u001b[0mplt\u001b[0m\u001b[0;34m.\u001b[0m\u001b[0mfigure\u001b[0m\u001b[0;34m(\u001b[0m\u001b[0mfigsize\u001b[0m\u001b[0;34m=\u001b[0m\u001b[0;34m(\u001b[0m\u001b[0;36m8\u001b[0m\u001b[0;34m,\u001b[0m \u001b[0;36m6\u001b[0m\u001b[0;34m)\u001b[0m\u001b[0;34m)\u001b[0m\u001b[0;34m\u001b[0m\u001b[0;34m\u001b[0m\u001b[0m\n\u001b[1;32m      3\u001b[0m \u001b[0msns\u001b[0m\u001b[0;34m.\u001b[0m\u001b[0mheatmap\u001b[0m\u001b[0;34m(\u001b[0m\u001b[0mcm\u001b[0m\u001b[0;34m,\u001b[0m \u001b[0mannot\u001b[0m\u001b[0;34m=\u001b[0m\u001b[0;32mTrue\u001b[0m\u001b[0;34m,\u001b[0m \u001b[0mfmt\u001b[0m\u001b[0;34m=\u001b[0m\u001b[0;34m'd'\u001b[0m\u001b[0;34m,\u001b[0m \u001b[0mcmap\u001b[0m\u001b[0;34m=\u001b[0m\u001b[0;34m'Blues'\u001b[0m\u001b[0;34m,\u001b[0m \u001b[0mxticklabels\u001b[0m\u001b[0;34m=\u001b[0m\u001b[0mtest_dataset\u001b[0m\u001b[0;34m.\u001b[0m\u001b[0mclasses\u001b[0m\u001b[0;34m,\u001b[0m \u001b[0myticklabels\u001b[0m\u001b[0;34m=\u001b[0m\u001b[0mtest_dataset\u001b[0m\u001b[0;34m.\u001b[0m\u001b[0mclasses\u001b[0m\u001b[0;34m)\u001b[0m\u001b[0;34m\u001b[0m\u001b[0;34m\u001b[0m\u001b[0m\n\u001b[1;32m      4\u001b[0m \u001b[0mplt\u001b[0m\u001b[0;34m.\u001b[0m\u001b[0mxlabel\u001b[0m\u001b[0;34m(\u001b[0m\u001b[0;34m'Predicted'\u001b[0m\u001b[0;34m)\u001b[0m\u001b[0;34m\u001b[0m\u001b[0;34m\u001b[0m\u001b[0m\n\u001b[1;32m      5\u001b[0m \u001b[0mplt\u001b[0m\u001b[0;34m.\u001b[0m\u001b[0mylabel\u001b[0m\u001b[0;34m(\u001b[0m\u001b[0;34m'True'\u001b[0m\u001b[0;34m)\u001b[0m\u001b[0;34m\u001b[0m\u001b[0;34m\u001b[0m\u001b[0m\n",
            "\u001b[0;31mNameError\u001b[0m: name 'all_labels' is not defined"
          ]
        }
      ]
    },
    {
      "cell_type": "markdown",
      "metadata": {
        "id": "99r7J0bXinWw"
      },
      "source": [
        "# 3. Data augmentation"
      ]
    },
    {
      "cell_type": "code",
      "execution_count": null,
      "metadata": {
        "colab": {
          "base_uri": "https://localhost:8080/"
        },
        "id": "hLMTT5d_89Vn",
        "outputId": "428d2e71-fa4f-481f-8c2e-4b135bb8904e"
      },
      "outputs": [
        {
          "name": "stdout",
          "output_type": "stream",
          "text": [
            "Number of classes: 4\n",
            "Classes: ['glioma_tumor', 'meningioma_tumor', 'no_tumor', 'pituitary_tumor']\n"
          ]
        },
        {
          "name": "stderr",
          "output_type": "stream",
          "text": [
            "/usr/local/lib/python3.12/dist-packages/torch/utils/data/dataloader.py:627: UserWarning: This DataLoader will create 4 worker processes in total. Our suggested max number of worker in current system is 2, which is smaller than what this DataLoader is going to create. Please be aware that excessive worker creation might get DataLoader running slow or even freeze, lower the worker number to avoid potential slowness/freeze if necessary.\n",
            "  warnings.warn(\n"
          ]
        },
        {
          "name": "stdout",
          "output_type": "stream",
          "text": [
            "Downloading: \"https://download.pytorch.org/models/resnet50-11ad3fa6.pth\" to /root/.cache/torch/hub/checkpoints/resnet50-11ad3fa6.pth\n"
          ]
        },
        {
          "name": "stderr",
          "output_type": "stream",
          "text": [
            "100%|██████████| 97.8M/97.8M [00:00<00:00, 193MB/s]\n",
            "/tmp/ipython-input-1342538244.py:166: FutureWarning: `torch.cuda.amp.GradScaler(args...)` is deprecated. Please use `torch.amp.GradScaler('cuda', args...)` instead.\n",
            "  scaler = torch.cuda.amp.GradScaler(enabled=device.type == \"cuda\")\n",
            "/tmp/ipython-input-1342538244.py:210: FutureWarning: `torch.cuda.amp.autocast(args...)` is deprecated. Please use `torch.amp.autocast('cuda', args...)` instead.\n",
            "  with torch.cuda.amp.autocast(enabled=device.type == \"cuda\"):\n",
            "/tmp/ipython-input-1342538244.py:179: FutureWarning: `torch.cuda.amp.autocast(args...)` is deprecated. Please use `torch.amp.autocast('cuda', args...)` instead.\n",
            "  with torch.cuda.amp.autocast(enabled=device.type == \"cuda\"):\n"
          ]
        },
        {
          "name": "stdout",
          "output_type": "stream",
          "text": [
            "Epoch 001/40 | train_loss=1.0983 | val_loss=1.1471 | val_acc=0.3056 | lr=4.03e-05\n",
            "Epoch 002/40 | train_loss=0.4782 | val_loss=0.5624 | val_acc=0.7608 | lr=6.97e-05\n",
            "Epoch 003/40 | train_loss=0.2098 | val_loss=1.1410 | val_acc=0.4444 | lr=1.14e-04\n",
            "Epoch 004/40 | train_loss=0.1469 | val_loss=0.2744 | val_acc=0.8966 | lr=1.65e-04\n",
            "Epoch 005/40 | train_loss=0.1099 | val_loss=0.2738 | val_acc=0.8627 | lr=2.17e-04\n",
            "Epoch 006/40 | train_loss=0.1261 | val_loss=0.1573 | val_acc=0.9367 | lr=2.61e-04\n",
            "Epoch 007/40 | train_loss=0.0749 | val_loss=0.1670 | val_acc=0.9352 | lr=2.90e-04\n",
            "Epoch 008/40 | train_loss=0.0736 | val_loss=0.2185 | val_acc=0.9275 | lr=3.00e-04\n",
            "Epoch 009/40 | train_loss=0.1005 | val_loss=0.1071 | val_acc=0.9645 | lr=2.99e-04\n",
            "Epoch 010/40 | train_loss=0.0730 | val_loss=0.1588 | val_acc=0.9414 | lr=2.97e-04\n"
          ]
        }
      ],
      "source": [
        "import os, math, copy, time\n",
        "import torch\n",
        "import torch.nn as nn\n",
        "from torch.utils.data import DataLoader, WeightedRandomSampler, Subset\n",
        "from torchvision import datasets, transforms, models\n",
        "from sklearn.metrics import classification_report, confusion_matrix\n",
        "from sklearn.model_selection import StratifiedShuffleSplit\n",
        "import numpy as np\n",
        "import matplotlib.pyplot as plt # Import matplotlib for plotting\n",
        "\n",
        "# --------------------------\n",
        "# Config - SET YOUR PATHS HERE!\n",
        "# --------------------------\n",
        "train_dir = os.path.join(os.getcwd(), 'Training')  # UPDATE THIS PATH\n",
        "test_dir = os.path.join(os.getcwd(), 'Testing')    # UPDATE THIS PATH\n",
        "\n",
        "model_name    = \"resnet50\"           # choose: \"resnet50\" or \"efficientnet_b0\"\n",
        "epochs        = 40                   # 30–40 recommended\n",
        "batch_size    = 32\n",
        "max_lr        = 3e-4                 # OneCycle peak LR\n",
        "weight_decay  = 1e-4\n",
        "num_workers   = 4\n",
        "seed          = 42\n",
        "device        = torch.device(\"cuda\" if torch.cuda.is_available() else \"cpu\")\n",
        "torch.manual_seed(seed); np.random.seed(seed)\n",
        "\n",
        "# Early Stopping Parameters\n",
        "patience = 10  # Number of epochs to wait after last improvement\n",
        "best_val_loss = float('inf') # Initialize with infinity for monitoring loss\n",
        "patience_counter = 0\n",
        "\n",
        "\n",
        "# -----------------------\n",
        "# Define base transforms first - THIS FIXES THE base_tf ERROR!\n",
        "# -----------------------\n",
        "if model_name == \"resnet50\":\n",
        "    # ImageNet normalization values\n",
        "    mean = [0.485, 0.456, 0.406]\n",
        "    std = [0.229, 0.224, 0.225]\n",
        "    crop_size = 224\n",
        "    resize_size = 256\n",
        "elif model_name == \"efficientnet_b0\":\n",
        "    # ImageNet normalization values\n",
        "    mean = [0.485, 0.456, 0.406]\n",
        "    std = [0.229, 0.224, 0.225]\n",
        "    crop_size = 224\n",
        "    resize_size = 256\n",
        "else:\n",
        "    raise ValueError(\"Unsupported model_name\")\n",
        "\n",
        "# -----------------------\n",
        "# Define transforms\n",
        "# -----------------------\n",
        "train_tf = transforms.Compose([\n",
        "    transforms.RandomResizedCrop(crop_size, scale=(0.85, 1.0)),\n",
        "    transforms.RandomRotation(15), # Increased rotation\n",
        "    transforms.ColorJitter(brightness=0.1, contrast=0.1, saturation=0.1, hue=0.05), # Added color jitter\n",
        "    transforms.GaussianBlur(kernel_size=3), # Added Gaussian blur\n",
        "    transforms.RandomAffine(degrees=0, translate=(0.1, 0.1), scale=(0.9, 1.1), shear=5), # Added affine transformations\n",
        "    transforms.ToTensor(),\n",
        "    transforms.Normalize(mean=mean, std=std),\n",
        "    transforms.Lambda(lambda x: x + 0.01 * torch.randn_like(x)), # Added Gaussian noise\n",
        "])\n",
        "\n",
        "val_tf = transforms.Compose([\n",
        "    transforms.Resize(resize_size),\n",
        "    transforms.CenterCrop(crop_size),\n",
        "    transforms.ToTensor(),\n",
        "    transforms.Normalize(mean=mean, std=std),\n",
        "])\n",
        "\n",
        "test_tf = val_tf  # usually same as val\n",
        "\n",
        "# -----------------------\n",
        "# Datasets\n",
        "# -----------------------\n",
        "base_train_dataset = datasets.ImageFolder(root=train_dir, transform=train_tf)\n",
        "test_dataset       = datasets.ImageFolder(root=test_dir,  transform=test_tf)\n",
        "\n",
        "# NOW we can determine num_classes\n",
        "num_classes = len(base_train_dataset.classes)\n",
        "print(f\"Number of classes: {num_classes}\")\n",
        "print(f\"Classes: {base_train_dataset.classes}\")\n",
        "\n",
        "# Stratified split\n",
        "y = [label for _, label in base_train_dataset.samples]\n",
        "sss = StratifiedShuffleSplit(n_splits=1, test_size=0.2, random_state=42)\n",
        "train_idx, val_idx = next(sss.split(np.arange(len(y)), y))\n",
        "\n",
        "train_dataset = Subset(base_train_dataset, train_idx)\n",
        "# Important: validation subset must apply val_tf (not train_tf), so re-wrap\n",
        "base_val_dataset = datasets.ImageFolder(root=train_dir, transform=val_tf)\n",
        "val_dataset   = Subset(base_val_dataset, val_idx)\n",
        "\n",
        "# Sanity checks\n",
        "assert set(train_idx).isdisjoint(val_idx)\n",
        "\n",
        "# --------------------------\n",
        "# Class weights (inverse frequency) + sampler\n",
        "# --------------------------\n",
        "# Targets only from the TRAIN subset (use indices!)\n",
        "train_targets = np.array([base_train_dataset.samples[i][1] for i in train_idx])\n",
        "class_counts = torch.bincount(torch.tensor(train_targets), minlength=num_classes).float().clamp(min=1.0)\n",
        "\n",
        "# Weighted CE (normalized)\n",
        "cls_weights = (class_counts.sum() / (num_classes * class_counts)).to(device)\n",
        "\n",
        "# Per-sample weights aligned to the Subset order\n",
        "subset_weights = torch.tensor([1.0 / class_counts[base_train_dataset.samples[i][1]] for i in train_idx],\n",
        "                              dtype=torch.double)\n",
        "sampler = WeightedRandomSampler(weights=subset_weights,\n",
        "                                num_samples=len(subset_weights),\n",
        "                                replacement=True)\n",
        "\n",
        "# -----------------------\n",
        "# DataLoaders\n",
        "# -----------------------\n",
        "# Rebuild loaders: sampler for train, vanilla for val/test\n",
        "train_loader = DataLoader(train_dataset, batch_size=batch_size, sampler=sampler,\n",
        "                          num_workers=num_workers, pin_memory=True)\n",
        "val_loader   = DataLoader(val_dataset,   batch_size=batch_size, shuffle=False,\n",
        "                          num_workers=num_workers, pin_memory=True)\n",
        "test_loader  = DataLoader(test_dataset,  batch_size=batch_size, shuffle=False,\n",
        "                          num_workers=num_workers, pin_memory=True)\n",
        "\n",
        "# --------------------------\n",
        "# Model (choose one)\n",
        "# --------------------------\n",
        "\n",
        "if model_name == \"resnet50\":\n",
        "    from torchvision.models import ResNet50_Weights\n",
        "    weights = ResNet50_Weights.IMAGENET1K_V2\n",
        "    model = models.resnet50(weights=weights)\n",
        "    in_features = model.fc.in_features\n",
        "    model.fc = nn.Linear(in_features, num_classes)\n",
        "\n",
        "elif model_name == \"efficientnet_b0\":\n",
        "    from torchvision.models import EfficientNet_B0_Weights\n",
        "    weights = EfficientNet_B0_Weights.IMAGENET1K_V1\n",
        "    model = models.efficientnet_b0(weights=weights)\n",
        "    in_features = model.classifier[-1].in_features\n",
        "    model.classifier[-1] = nn.Linear(in_features, num_classes)\n",
        "\n",
        "else:\n",
        "    raise ValueError(\"model_name must be 'resnet50' or 'efficientnet_b0'\")\n",
        "\n",
        "model = model.to(device)\n",
        "\n",
        "# --------------------------\n",
        "# Loss / Optimizer / OneCycleLR\n",
        "# --------------------------\n",
        "criterion = nn.CrossEntropyLoss(weight=cls_weights)\n",
        "optimizer = torch.optim.AdamW(model.parameters(), lr=max_lr, weight_decay=weight_decay)\n",
        "\n",
        "steps_per_epoch = len(train_loader)\n",
        "scheduler = torch.optim.lr_scheduler.OneCycleLR(\n",
        "    optimizer,\n",
        "    max_lr=max_lr,\n",
        "    epochs=epochs,\n",
        "    steps_per_epoch=steps_per_epoch,\n",
        "    pct_start=0.2,\n",
        "    div_factor=10.0,\n",
        "    final_div_factor=10.0\n",
        ")\n",
        "\n",
        "scaler = torch.cuda.amp.GradScaler(enabled=device.type == \"cuda\")\n",
        "\n",
        "# --------------------------\n",
        "# Eval helper\n",
        "# --------------------------\n",
        "@torch.no_grad()\n",
        "def evaluate(model, loader):\n",
        "    model.eval()\n",
        "    total, correct = 0, 0\n",
        "    all_preds, all_labels = [], []\n",
        "    running_loss = 0.0 # Added to calculate validation loss\n",
        "    for x, y in loader:\n",
        "        x, y = x.to(device), y.to(device)\n",
        "        with torch.cuda.amp.autocast(enabled=device.type == \"cuda\"):\n",
        "            logits = model(x)\n",
        "            loss = criterion(logits, y) # Calculate validation loss\n",
        "        running_loss += loss.item() * x.size(0) # Accumulate validation loss\n",
        "        preds = logits.argmax(dim=1)\n",
        "        all_preds.append(preds.cpu())\n",
        "        all_labels.append(y.cpu())\n",
        "        correct += (preds == y).sum().item()\n",
        "        total += y.size(0)\n",
        "    all_preds = torch.cat(all_preds).numpy()\n",
        "    all_labels = torch.cat(all_labels).numpy()\n",
        "    avg_loss = running_loss / total # Calculate average validation loss\n",
        "    return (correct / total), all_labels, all_preds, avg_loss # Return validation loss\n",
        "\n",
        "# --------------------------\n",
        "# Train loop (AMP + OneCycle + best checkpoint + Early Stopping)\n",
        "# --------------------------\n",
        "best_w = copy.deepcopy(model.state_dict())\n",
        "best_val_loss = float('inf') # Initialize with infinity for monitoring loss\n",
        "patience_counter = 0\n",
        "t0 = time.time()\n",
        "train_losses = [] # List to store training losses\n",
        "val_losses = []   # List to store validation losses\n",
        "\n",
        "\n",
        "for epoch in range(epochs):\n",
        "    model.train()\n",
        "    running_loss = 0.0\n",
        "    for x, y in train_loader:\n",
        "        x, y = x.to(device), y.to(device)\n",
        "        optimizer.zero_grad(set_to_none=True)\n",
        "        with torch.cuda.amp.autocast(enabled=device.type == \"cuda\"):\n",
        "            logits = model(x)\n",
        "            loss = criterion(logits, y)\n",
        "        scaler.scale(loss).backward()\n",
        "        scaler.step(optimizer)\n",
        "        scaler.update()\n",
        "        scheduler.step()\n",
        "        running_loss += loss.item()\n",
        "\n",
        "    train_loss = running_loss / max(1, len(train_loader))\n",
        "    train_losses.append(train_loss) # Append training loss\n",
        "\n",
        "    val_acc, _, _, val_loss = evaluate(model, val_loader) # Get validation loss\n",
        "    val_losses.append(val_loss) # Append validation loss\n",
        "\n",
        "\n",
        "    if val_loss < best_val_loss: # Check if validation loss improved\n",
        "        best_val_loss = val_loss\n",
        "        best_w = copy.deepcopy(model.state_dict())\n",
        "        patience_counter = 0 # Reset patience counter\n",
        "    else:\n",
        "        patience_counter += 1 # Increment patience counter\n",
        "\n",
        "    print(f\"Epoch {epoch+1:03d}/{epochs} | train_loss={train_loss:.4f} | val_loss={val_loss:.4f} | val_acc={val_acc:.4f} \" # Added validation loss to output\n",
        "          f\"| lr={scheduler.get_last_lr()[0]:.2e}\")\n",
        "\n",
        "    # Early Stopping Check\n",
        "    if patience_counter >= patience:\n",
        "        print(f\"Early stopping triggered after {patience} epochs with no improvement.\")\n",
        "        break # Break the training loop\n",
        "\n",
        "model.load_state_dict(best_w)\n",
        "print(f\"\\nTraining done in {(time.time()-t0)/60:.1f} min. Best val acc: {best_val_acc:.4f}\")\n",
        "\n",
        "# --------------------------\n",
        "# Plotting Loss Curves\n",
        "# --------------------------\n",
        "plt.figure(figsize=(10, 5))\n",
        "plt.plot(train_losses, label='Training Loss')\n",
        "plt.plot(val_losses, label='Validation Loss')\n",
        "plt.xlabel('Epoch')\n",
        "plt.ylabel('Loss')\n",
        "plt.title('Training and Validation Loss Curves')\n",
        "plt.legend()\n",
        "plt.grid(True)\n",
        "plt.show()\n",
        "\n",
        "\n",
        "# --------------------------\n",
        "# Final validation report\n",
        "# --------------------------\n",
        "test_acc, y_true, y_pred, _ = evaluate(model, test_loader) # Added _ to ignore validation loss\n",
        "print(f\"\\nFinal Test Acc: {test_acc:.4f}\")\n",
        "print(\"\\nClassification report (TEST):\")\n",
        "print(classification_report(y_true, y_pred, target_names=[c for c in base_train_dataset.classes], digits=3))\n",
        "\n",
        "print(\"\\nConfusion matrix (TEST):\")\n",
        "print(confusion_matrix(y_true, y_pred))"
      ]
    },
    {
      "cell_type": "markdown",
      "metadata": {
        "id": "xxTtHbxlf36J"
      },
      "source": [
        "4. Data augmentation w/efficientnet instead of ResNet"
      ]
    },
    {
      "cell_type": "code",
      "execution_count": null,
      "metadata": {
        "colab": {
          "background_save": true,
          "base_uri": "https://localhost:8080/"
        },
        "id": "Mm1JQPFofHn8",
        "outputId": "97edf492-9ece-4d32-caf5-e39b35496412"
      },
      "outputs": [
        {
          "name": "stdout",
          "output_type": "stream",
          "text": [
            "Number of classes: 4\n",
            "Classes: ['glioma_tumor', 'meningioma_tumor', 'no_tumor', 'pituitary_tumor']\n"
          ]
        },
        {
          "name": "stderr",
          "output_type": "stream",
          "text": [
            "/usr/local/lib/python3.12/dist-packages/torch/utils/data/dataloader.py:627: UserWarning: This DataLoader will create 4 worker processes in total. Our suggested max number of worker in current system is 2, which is smaller than what this DataLoader is going to create. Please be aware that excessive worker creation might get DataLoader running slow or even freeze, lower the worker number to avoid potential slowness/freeze if necessary.\n",
            "  warnings.warn(\n"
          ]
        },
        {
          "name": "stdout",
          "output_type": "stream",
          "text": [
            "Downloading: \"https://download.pytorch.org/models/efficientnet_b0_rwightman-7f5810bc.pth\" to /root/.cache/torch/hub/checkpoints/efficientnet_b0_rwightman-7f5810bc.pth\n"
          ]
        },
        {
          "name": "stderr",
          "output_type": "stream",
          "text": [
            "100%|██████████| 20.5M/20.5M [00:00<00:00, 180MB/s]\n",
            "/tmp/ipython-input-2508963268.py:166: FutureWarning: `torch.cuda.amp.GradScaler(args...)` is deprecated. Please use `torch.amp.GradScaler('cuda', args...)` instead.\n",
            "  scaler = torch.cuda.amp.GradScaler(enabled=device.type == \"cuda\")\n",
            "/tmp/ipython-input-2508963268.py:210: FutureWarning: `torch.cuda.amp.autocast(args...)` is deprecated. Please use `torch.amp.autocast('cuda', args...)` instead.\n",
            "  with torch.cuda.amp.autocast(enabled=device.type == \"cuda\"):\n",
            "/usr/local/lib/python3.12/dist-packages/torch/optim/lr_scheduler.py:192: UserWarning: Detected call of `lr_scheduler.step()` before `optimizer.step()`. In PyTorch 1.1.0 and later, you should call them in the opposite order: `optimizer.step()` before `lr_scheduler.step()`.  Failure to do this will result in PyTorch skipping the first value of the learning rate schedule. See more details at https://pytorch.org/docs/stable/optim.html#how-to-adjust-learning-rate\n",
            "  warnings.warn(\n",
            "/tmp/ipython-input-2508963268.py:179: FutureWarning: `torch.cuda.amp.autocast(args...)` is deprecated. Please use `torch.amp.autocast('cuda', args...)` instead.\n",
            "  with torch.cuda.amp.autocast(enabled=device.type == \"cuda\"):\n"
          ]
        },
        {
          "name": "stdout",
          "output_type": "stream",
          "text": [
            "Epoch 001/40 | train_loss=1.1434 | val_loss=1.3906 | val_acc=0.1590 | lr=4.03e-05\n",
            "Epoch 002/40 | train_loss=0.6587 | val_loss=1.2532 | val_acc=0.3796 | lr=6.97e-05\n",
            "Epoch 003/40 | train_loss=0.3364 | val_loss=0.8981 | val_acc=0.5679 | lr=1.14e-04\n",
            "Epoch 004/40 | train_loss=0.2204 | val_loss=0.5932 | val_acc=0.7731 | lr=1.65e-04\n",
            "Epoch 005/40 | train_loss=0.1310 | val_loss=0.2775 | val_acc=0.8843 | lr=2.17e-04\n",
            "Epoch 006/40 | train_loss=0.1012 | val_loss=0.3133 | val_acc=0.8765 | lr=2.61e-04\n",
            "Epoch 007/40 | train_loss=0.0956 | val_loss=0.6018 | val_acc=0.7608 | lr=2.90e-04\n",
            "Epoch 008/40 | train_loss=0.0581 | val_loss=0.2126 | val_acc=0.9213 | lr=3.00e-04\n",
            "Epoch 009/40 | train_loss=0.0796 | val_loss=0.1800 | val_acc=0.9167 | lr=2.99e-04\n",
            "Epoch 010/40 | train_loss=0.0559 | val_loss=0.1375 | val_acc=0.9475 | lr=2.97e-04\n",
            "Epoch 011/40 | train_loss=0.0376 | val_loss=0.1688 | val_acc=0.9321 | lr=2.94e-04\n",
            "Epoch 012/40 | train_loss=0.0484 | val_loss=0.2322 | val_acc=0.9275 | lr=2.89e-04\n",
            "Epoch 013/40 | train_loss=0.0363 | val_loss=0.2564 | val_acc=0.9306 | lr=2.82e-04\n",
            "Epoch 014/40 | train_loss=0.0461 | val_loss=0.2348 | val_acc=0.9105 | lr=2.75e-04\n",
            "Epoch 015/40 | train_loss=0.0264 | val_loss=0.1492 | val_acc=0.9398 | lr=2.66e-04\n",
            "Epoch 016/40 | train_loss=0.0157 | val_loss=0.0845 | val_acc=0.9691 | lr=2.56e-04\n",
            "Epoch 017/40 | train_loss=0.0132 | val_loss=0.1077 | val_acc=0.9691 | lr=2.46e-04\n",
            "Epoch 018/40 | train_loss=0.0238 | val_loss=0.0802 | val_acc=0.9722 | lr=2.34e-04\n",
            "Epoch 019/40 | train_loss=0.0080 | val_loss=0.1598 | val_acc=0.9568 | lr=2.21e-04\n",
            "Epoch 020/40 | train_loss=0.0110 | val_loss=0.0993 | val_acc=0.9722 | lr=2.08e-04\n",
            "Epoch 021/40 | train_loss=0.0098 | val_loss=0.1446 | val_acc=0.9614 | lr=1.94e-04\n",
            "Epoch 022/40 | train_loss=0.0084 | val_loss=0.1162 | val_acc=0.9676 | lr=1.80e-04\n",
            "Epoch 023/40 | train_loss=0.0073 | val_loss=0.0961 | val_acc=0.9691 | lr=1.66e-04\n",
            "Epoch 024/40 | train_loss=0.0249 | val_loss=0.1324 | val_acc=0.9552 | lr=1.51e-04\n",
            "Epoch 025/40 | train_loss=0.0111 | val_loss=0.0915 | val_acc=0.9691 | lr=1.37e-04\n",
            "Epoch 026/40 | train_loss=0.0131 | val_loss=0.0814 | val_acc=0.9738 | lr=1.22e-04\n",
            "Epoch 027/40 | train_loss=0.0108 | val_loss=0.0935 | val_acc=0.9738 | lr=1.08e-04\n",
            "Epoch 028/40 | train_loss=0.0055 | val_loss=0.1097 | val_acc=0.9676 | lr=9.45e-05\n",
            "Early stopping triggered after 10 epochs with no improvement.\n"
          ]
        },
        {
          "ename": "NameError",
          "evalue": "name 'best_val_acc' is not defined",
          "output_type": "error",
          "traceback": [
            "\u001b[0;31m---------------------------------------------------------------------------\u001b[0m",
            "\u001b[0;31mNameError\u001b[0m                                 Traceback (most recent call last)",
            "\u001b[0;32m/tmp/ipython-input-2508963268.py\u001b[0m in \u001b[0;36m<cell line: 0>\u001b[0;34m()\u001b[0m\n\u001b[1;32m    240\u001b[0m \u001b[0;34m\u001b[0m\u001b[0m\n\u001b[1;32m    241\u001b[0m \u001b[0mmodel\u001b[0m\u001b[0;34m.\u001b[0m\u001b[0mload_state_dict\u001b[0m\u001b[0;34m(\u001b[0m\u001b[0mbest_w\u001b[0m\u001b[0;34m)\u001b[0m\u001b[0;34m\u001b[0m\u001b[0;34m\u001b[0m\u001b[0m\n\u001b[0;32m--> 242\u001b[0;31m \u001b[0mprint\u001b[0m\u001b[0;34m(\u001b[0m\u001b[0;34mf\"\\nTraining done in {(time.time()-t0)/60:.1f} min. Best val acc: {best_val_acc:.4f}\"\u001b[0m\u001b[0;34m)\u001b[0m\u001b[0;34m\u001b[0m\u001b[0;34m\u001b[0m\u001b[0m\n\u001b[0m\u001b[1;32m    243\u001b[0m \u001b[0;34m\u001b[0m\u001b[0m\n\u001b[1;32m    244\u001b[0m \u001b[0;31m# --------------------------\u001b[0m\u001b[0;34m\u001b[0m\u001b[0;34m\u001b[0m\u001b[0m\n",
            "\u001b[0;31mNameError\u001b[0m: name 'best_val_acc' is not defined"
          ]
        }
      ],
      "source": [
        "import os, math, copy, time\n",
        "import torch\n",
        "import torch.nn as nn\n",
        "from torch.utils.data import DataLoader, WeightedRandomSampler, Subset\n",
        "from torchvision import datasets, transforms, models\n",
        "from sklearn.metrics import classification_report, confusion_matrix\n",
        "from sklearn.model_selection import StratifiedShuffleSplit\n",
        "import numpy as np\n",
        "import matplotlib.pyplot as plt # Import matplotlib for plotting\n",
        "\n",
        "# --------------------------\n",
        "# Config - SET YOUR PATHS HERE!\n",
        "# --------------------------\n",
        "train_dir = os.path.join(os.getcwd(), 'Training')  # UPDATE THIS PATH\n",
        "test_dir = os.path.join(os.getcwd(), 'Testing')    # UPDATE THIS PATH\n",
        "\n",
        "model_name    = \"efficientnet_b0\"           # choose: \"resnet50\" or \"efficientnet_b0\"\n",
        "epochs        = 40                   # 30–40 recommended\n",
        "batch_size    = 32\n",
        "max_lr        = 3e-4                 # OneCycle peak LR\n",
        "weight_decay  = 1e-4\n",
        "num_workers   = 4\n",
        "seed          = 42\n",
        "device        = torch.device(\"cuda\" if torch.cuda.is_available() else \"cpu\")\n",
        "torch.manual_seed(seed); np.random.seed(seed)\n",
        "\n",
        "# Early Stopping Parameters\n",
        "patience = 10  # Number of epochs to wait after last improvement\n",
        "best_val_loss = float('inf') # Initialize with infinity for monitoring loss\n",
        "patience_counter = 0\n",
        "\n",
        "\n",
        "# -----------------------\n",
        "# Define base transforms first - THIS FIXES THE base_tf ERROR!\n",
        "# -----------------------\n",
        "if model_name == \"resnet50\":\n",
        "    # ImageNet normalization values\n",
        "    mean = [0.485, 0.456, 0.406]\n",
        "    std = [0.229, 0.224, 0.225]\n",
        "    crop_size = 224\n",
        "    resize_size = 256\n",
        "elif model_name == \"efficientnet_b0\":\n",
        "    # ImageNet normalization values\n",
        "    mean = [0.485, 0.456, 0.406]\n",
        "    std = [0.229, 0.224, 0.225]\n",
        "    crop_size = 224\n",
        "    resize_size = 256\n",
        "else:\n",
        "    raise ValueError(\"Unsupported model_name\")\n",
        "\n",
        "# -----------------------\n",
        "# Define transforms\n",
        "# -----------------------\n",
        "train_tf = transforms.Compose([\n",
        "    transforms.RandomResizedCrop(crop_size, scale=(0.85, 1.0)),\n",
        "    transforms.RandomRotation(15), # Increased rotation\n",
        "    transforms.ColorJitter(brightness=0.1, contrast=0.1, saturation=0.1, hue=0.05), # Added color jitter\n",
        "    transforms.GaussianBlur(kernel_size=3), # Added Gaussian blur\n",
        "    transforms.RandomAffine(degrees=0, translate=(0.1, 0.1), scale=(0.9, 1.1), shear=5), # Added affine transformations\n",
        "    transforms.ToTensor(),\n",
        "    transforms.Normalize(mean=mean, std=std),\n",
        "    transforms.Lambda(lambda x: x + 0.01 * torch.randn_like(x)), # Added Gaussian noise\n",
        "])\n",
        "\n",
        "val_tf = transforms.Compose([\n",
        "    transforms.Resize(resize_size),\n",
        "    transforms.CenterCrop(crop_size),\n",
        "    transforms.ToTensor(),\n",
        "    transforms.Normalize(mean=mean, std=std),\n",
        "])\n",
        "\n",
        "test_tf = val_tf  # usually same as val\n",
        "\n",
        "# -----------------------\n",
        "# Datasets\n",
        "# -----------------------\n",
        "base_train_dataset = datasets.ImageFolder(root=train_dir, transform=train_tf)\n",
        "test_dataset       = datasets.ImageFolder(root=test_dir,  transform=test_tf)\n",
        "\n",
        "# NOW we can determine num_classes\n",
        "num_classes = len(base_train_dataset.classes)\n",
        "print(f\"Number of classes: {num_classes}\")\n",
        "print(f\"Classes: {base_train_dataset.classes}\")\n",
        "\n",
        "# Stratified split\n",
        "y = [label for _, label in base_train_dataset.samples]\n",
        "sss = StratifiedShuffleSplit(n_splits=1, test_size=0.2, random_state=42)\n",
        "train_idx, val_idx = next(sss.split(np.arange(len(y)), y))\n",
        "\n",
        "train_dataset = Subset(base_train_dataset, train_idx)\n",
        "# Important: validation subset must apply val_tf (not train_tf), so re-wrap\n",
        "base_val_dataset = datasets.ImageFolder(root=train_dir, transform=val_tf)\n",
        "val_dataset   = Subset(base_val_dataset, val_idx)\n",
        "\n",
        "# Sanity checks\n",
        "assert set(train_idx).isdisjoint(val_idx)\n",
        "\n",
        "# --------------------------\n",
        "# Class weights (inverse frequency) + sampler\n",
        "# --------------------------\n",
        "# Targets only from the TRAIN subset (use indices!)\n",
        "train_targets = np.array([base_train_dataset.samples[i][1] for i in train_idx])\n",
        "class_counts = torch.bincount(torch.tensor(train_targets), minlength=num_classes).float().clamp(min=1.0)\n",
        "\n",
        "# Weighted CE (normalized)\n",
        "cls_weights = (class_counts.sum() / (num_classes * class_counts)).to(device)\n",
        "\n",
        "# Per-sample weights aligned to the Subset order\n",
        "subset_weights = torch.tensor([1.0 / class_counts[base_train_dataset.samples[i][1]] for i in train_idx],\n",
        "                              dtype=torch.double)\n",
        "sampler = WeightedRandomSampler(weights=subset_weights,\n",
        "                                num_samples=len(subset_weights),\n",
        "                                replacement=True)\n",
        "\n",
        "# -----------------------\n",
        "# DataLoaders\n",
        "# -----------------------\n",
        "# Rebuild loaders: sampler for train, vanilla for val/test\n",
        "train_loader = DataLoader(train_dataset, batch_size=batch_size, sampler=sampler,\n",
        "                          num_workers=num_workers, pin_memory=True)\n",
        "val_loader   = DataLoader(val_dataset,   batch_size=batch_size, shuffle=False,\n",
        "                          num_workers=num_workers, pin_memory=True)\n",
        "test_loader  = DataLoader(test_dataset,  batch_size=batch_size, shuffle=False,\n",
        "                          num_workers=num_workers, pin_memory=True)\n",
        "\n",
        "# --------------------------\n",
        "# Model (choose one)\n",
        "# --------------------------\n",
        "\n",
        "if model_name == \"resnet50\":\n",
        "    from torchvision.models import ResNet50_Weights\n",
        "    weights = ResNet50_Weights.IMAGENET1K_V2\n",
        "    model = models.resnet50(weights=weights)\n",
        "    in_features = model.fc.in_features\n",
        "    model.fc = nn.Linear(in_features, num_classes)\n",
        "\n",
        "elif model_name == \"efficientnet_b0\":\n",
        "    from torchvision.models import EfficientNet_B0_Weights\n",
        "    weights = EfficientNet_B0_Weights.IMAGENET1K_V1\n",
        "    model = models.efficientnet_b0(weights=weights)\n",
        "    in_features = model.classifier[-1].in_features\n",
        "    model.classifier[-1] = nn.Linear(in_features, num_classes)\n",
        "\n",
        "else:\n",
        "    raise ValueError(\"model_name must be 'resnet50' or 'efficientnet_b0'\")\n",
        "\n",
        "model = model.to(device)\n",
        "\n",
        "# --------------------------\n",
        "# Loss / Optimizer / OneCycleLR\n",
        "# --------------------------\n",
        "criterion = nn.CrossEntropyLoss(weight=cls_weights)\n",
        "optimizer = torch.optim.AdamW(model.parameters(), lr=max_lr, weight_decay=weight_decay)\n",
        "\n",
        "steps_per_epoch = len(train_loader)\n",
        "scheduler = torch.optim.lr_scheduler.OneCycleLR(\n",
        "    optimizer,\n",
        "    max_lr=max_lr,\n",
        "    epochs=epochs,\n",
        "    steps_per_epoch=steps_per_epoch,\n",
        "    pct_start=0.2,\n",
        "    div_factor=10.0,\n",
        "    final_div_factor=10.0\n",
        ")\n",
        "\n",
        "scaler = torch.cuda.amp.GradScaler(enabled=device.type == \"cuda\")\n",
        "\n",
        "# --------------------------\n",
        "# Eval helper\n",
        "# --------------------------\n",
        "@torch.no_grad()\n",
        "def evaluate(model, loader):\n",
        "    model.eval()\n",
        "    total, correct = 0, 0\n",
        "    all_preds, all_labels = [], []\n",
        "    running_loss = 0.0 # Added to calculate validation loss\n",
        "    for x, y in loader:\n",
        "        x, y = x.to(device), y.to(device)\n",
        "        with torch.cuda.amp.autocast(enabled=device.type == \"cuda\"):\n",
        "            logits = model(x)\n",
        "            loss = criterion(logits, y) # Calculate validation loss\n",
        "        running_loss += loss.item() * x.size(0) # Accumulate validation loss\n",
        "        preds = logits.argmax(dim=1)\n",
        "        all_preds.append(preds.cpu())\n",
        "        all_labels.append(y.cpu())\n",
        "        correct += (preds == y).sum().item()\n",
        "        total += y.size(0)\n",
        "    all_preds = torch.cat(all_preds).numpy()\n",
        "    all_labels = torch.cat(all_labels).numpy()\n",
        "    avg_loss = running_loss / total # Calculate average validation loss\n",
        "    return (correct / total), all_labels, all_preds, avg_loss # Return validation loss\n",
        "\n",
        "# --------------------------\n",
        "# Train loop (AMP + OneCycle + best checkpoint + Early Stopping)\n",
        "# --------------------------\n",
        "best_w = copy.deepcopy(model.state_dict())\n",
        "best_val_loss = float('inf') # Initialize with infinity for monitoring loss\n",
        "patience_counter = 0\n",
        "t0 = time.time()\n",
        "train_losses = [] # List to store training losses\n",
        "val_losses = []   # List to store validation losses\n",
        "\n",
        "\n",
        "for epoch in range(epochs):\n",
        "    model.train()\n",
        "    running_loss = 0.0\n",
        "    for x, y in train_loader:\n",
        "        x, y = x.to(device), y.to(device)\n",
        "        optimizer.zero_grad(set_to_none=True)\n",
        "        with torch.cuda.amp.autocast(enabled=device.type == \"cuda\"):\n",
        "            logits = model(x)\n",
        "            loss = criterion(logits, y)\n",
        "        scaler.scale(loss).backward()\n",
        "        scaler.step(optimizer)\n",
        "        scaler.update()\n",
        "        scheduler.step()\n",
        "        running_loss += loss.item()\n",
        "\n",
        "    train_loss = running_loss / max(1, len(train_loader))\n",
        "    train_losses.append(train_loss) # Append training loss\n",
        "\n",
        "    val_acc, _, _, val_loss = evaluate(model, val_loader) # Get validation loss\n",
        "    val_losses.append(val_loss) # Append validation loss\n",
        "\n",
        "\n",
        "    if val_loss < best_val_loss: # Check if validation loss improved\n",
        "        best_val_loss = val_loss\n",
        "        best_w = copy.deepcopy(model.state_dict())\n",
        "        patience_counter = 0 # Reset patience counter\n",
        "    else:\n",
        "        patience_counter += 1 # Increment patience counter\n",
        "\n",
        "    print(f\"Epoch {epoch+1:03d}/{epochs} | train_loss={train_loss:.4f} | val_loss={val_loss:.4f} | val_acc={val_acc:.4f} \" # Added validation loss to output\n",
        "          f\"| lr={scheduler.get_last_lr()[0]:.2e}\")\n",
        "\n",
        "    # Early Stopping Check\n",
        "    if patience_counter >= patience:\n",
        "        print(f\"Early stopping triggered after {patience} epochs with no improvement.\")\n",
        "        break # Break the training loop\n",
        "\n",
        "model.load_state_dict(best_w)\n",
        "print(f\"\\nTraining done in {(time.time()-t0)/60:.1f} min. Best val acc: {best_val_acc:.4f}\")\n",
        "\n",
        "# --------------------------\n",
        "# Plotting Loss Curves\n",
        "# --------------------------\n",
        "plt.figure(figsize=(10, 5))\n",
        "plt.plot(train_losses, label='Training Loss')\n",
        "plt.plot(val_losses, label='Validation Loss')\n",
        "plt.xlabel('Epoch')\n",
        "plt.ylabel('Loss')\n",
        "plt.title('Training and Validation Loss Curves')\n",
        "plt.legend()\n",
        "plt.grid(True)\n",
        "plt.show()\n",
        "\n",
        "\n",
        "# --------------------------\n",
        "# Final validation report\n",
        "# --------------------------\n",
        "test_acc, y_true, y_pred, _ = evaluate(model, test_loader) # Added _ to ignore validation loss\n",
        "print(f\"\\nFinal Test Acc: {test_acc:.4f}\")\n",
        "print(\"\\nClassification report (TEST):\")\n",
        "print(classification_report(y_true, y_pred, target_names=[c for c in base_train_dataset.classes], digits=3))\n",
        "\n",
        "print(\"\\nConfusion matrix (TEST):\")\n",
        "print(confusion_matrix(y_true, y_pred))"
      ]
    },
    {
      "cell_type": "markdown",
      "source": [
        "# To create matrices with given data:\n"
      ],
      "metadata": {
        "id": "hmh8KnOO1ZfI"
      }
    },
    {
      "cell_type": "code",
      "source": [
        "import matplotlib.pyplot as plt\n",
        "import seaborn as sns\n",
        "\n",
        "# Confusion matrix data\n",
        "confusion_matrix = [\n",
        "    [26, 45, 27, 2],\n",
        "    [0, 132, 2, 1],\n",
        "    [0, 0, 114, 1],\n",
        "    [0, 6, 6, 62]\n",
        "]\n",
        "\n",
        "# Class labels\n",
        "labels = ['glioma_tumor', 'meningioma_tumor', 'no_tumor', 'pituitary_tumor']\n",
        "\n",
        "# Plot heatmap\n",
        "plt.figure(figsize=(8, 6))\n",
        "sns.heatmap(confusion_matrix,\n",
        "            annot=True,\n",
        "            fmt='d',\n",
        "            cmap='Blues',\n",
        "            xticklabels=labels,\n",
        "            yticklabels=labels)\n",
        "\n",
        "plt.title('Confusion Matrix')\n",
        "plt.xlabel('Predicted')\n",
        "plt.ylabel('True')\n",
        "plt.show()\n"
      ],
      "metadata": {
        "id": "JeFVhx_H2IbZ",
        "outputId": "3c12f21a-b426-451e-b6bc-562bb421126b",
        "colab": {
          "base_uri": "https://localhost:8080/",
          "height": 564
        }
      },
      "execution_count": null,
      "outputs": [
        {
          "output_type": "display_data",
          "data": {
            "text/plain": [
              "<Figure size 800x600 with 2 Axes>"
            ],
            "image/png": "[encoded data removed]"
          },
          "metadata": {}
        }
      ]
    }
  ],
  "metadata": {
    "accelerator": "GPU",
    "colab": {
      "gpuType": "T4",
      "machine_shape": "hm",
      "provenance": []
    },
    "kernelspec": {
      "display_name": "Python 3",
      "name": "python3"
    },
    "language_info": {
      "name": "python"
    }
  },
  "nbformat": 4,
  "nbformat_minor": 0
}